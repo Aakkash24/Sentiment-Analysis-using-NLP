{
  "nbformat": 4,
  "nbformat_minor": 0,
  "metadata": {
    "colab": {
      "provenance": []
    },
    "kernelspec": {
      "name": "python3",
      "display_name": "Python 3"
    },
    "language_info": {
      "name": "python"
    },
    "accelerator": "TPU",
    "gpuClass": "standard"
  },
  "cells": [
    {
      "cell_type": "markdown",
      "source": [
        "# 1. Downloading the Dataset from Kaggle"
      ],
      "metadata": {
        "id": "iFAT_FT1m0Te"
      }
    },
    {
      "cell_type": "code",
      "source": [
        "!pwd"
      ],
      "metadata": {
        "colab": {
          "base_uri": "https://localhost:8080/"
        },
        "id": "4jUDHAuvnL92",
        "outputId": "a5b91067-8f1d-4f26-b59c-48cb7dca014d"
      },
      "execution_count": 131,
      "outputs": [
        {
          "output_type": "stream",
          "name": "stdout",
          "text": [
            "/content\n"
          ]
        }
      ]
    },
    {
      "cell_type": "code",
      "source": [
        "import os\n",
        "os.environ['KAGGLE_CONFIG_DIR'] = '/content'"
      ],
      "metadata": {
        "id": "mXvvm28ynGcJ"
      },
      "execution_count": 132,
      "outputs": []
    },
    {
      "cell_type": "code",
      "source": [
        "!chmod 600 /content/kaggle.json"
      ],
      "metadata": {
        "id": "H1rd-eVJdD2_"
      },
      "execution_count": 133,
      "outputs": []
    },
    {
      "cell_type": "code",
      "execution_count": 4,
      "metadata": {
        "id": "RZbWwtiumWqe",
        "colab": {
          "base_uri": "https://localhost:8080/"
        },
        "outputId": "b13cbade-8e41-4182-c678-8148f50f8bf0"
      },
      "outputs": [
        {
          "output_type": "stream",
          "name": "stdout",
          "text": [
            "Downloading sentiment-analysis-on-movie-reviews.zip to /content\n",
            "\r  0% 0.00/1.90M [00:00<?, ?B/s]\n",
            "\r100% 1.90M/1.90M [00:00<00:00, 174MB/s]\n"
          ]
        }
      ],
      "source": [
        "!kaggle competitions download -c sentiment-analysis-on-movie-reviews"
      ]
    },
    {
      "cell_type": "code",
      "source": [
        "!unzip sentiment-analysis-on-movie-reviews.zip -d data"
      ],
      "metadata": {
        "colab": {
          "base_uri": "https://localhost:8080/"
        },
        "id": "HBiMMxO6nO7u",
        "outputId": "4e078485-3984-4d47-8aeb-95e9a2f76273"
      },
      "execution_count": 5,
      "outputs": [
        {
          "output_type": "stream",
          "name": "stdout",
          "text": [
            "Archive:  sentiment-analysis-on-movie-reviews.zip\n",
            "  inflating: data/sampleSubmission.csv  \n",
            "  inflating: data/test.tsv.zip       \n",
            "  inflating: data/train.tsv.zip      \n"
          ]
        }
      ]
    },
    {
      "cell_type": "code",
      "source": [
        "train_fname = 'data/train.tsv.zip'\n",
        "test_fname = 'data/test.tsv.zip'\n",
        "sub_fname = 'data/sampleSubmission.csv'"
      ],
      "metadata": {
        "id": "3drkdrPfnayj"
      },
      "execution_count": 6,
      "outputs": []
    },
    {
      "cell_type": "markdown",
      "source": [
        "# Explore and Visualize the Data\n",
        "\n",
        "\n",
        "*   Load the train,test and submission files using Pandas\n",
        "*   Explore rows, columns and sample values,etc.\n",
        "*   Visualize distribution of target columns\n",
        "\n",
        "\n",
        "\n"
      ],
      "metadata": {
        "id": "lQcmoITBn5N6"
      }
    },
    {
      "cell_type": "code",
      "source": [
        "import pandas as pd"
      ],
      "metadata": {
        "id": "-Dsk6RWyn3k3"
      },
      "execution_count": 7,
      "outputs": []
    },
    {
      "cell_type": "code",
      "source": [
        "raw_df = pd.read_csv(train_fname,sep = '\\t')"
      ],
      "metadata": {
        "id": "wOil3mYvoKod"
      },
      "execution_count": 8,
      "outputs": []
    },
    {
      "cell_type": "code",
      "source": [
        "raw_df"
      ],
      "metadata": {
        "colab": {
          "base_uri": "https://localhost:8080/",
          "height": 424
        },
        "id": "whDp4LLkoMk0",
        "outputId": "83f6f9d8-a2fe-4257-ec05-72ee4156366b"
      },
      "execution_count": 9,
      "outputs": [
        {
          "output_type": "execute_result",
          "data": {
            "text/plain": [
              "        PhraseId  SentenceId  \\\n",
              "0              1           1   \n",
              "1              2           1   \n",
              "2              3           1   \n",
              "3              4           1   \n",
              "4              5           1   \n",
              "...          ...         ...   \n",
              "156055    156056        8544   \n",
              "156056    156057        8544   \n",
              "156057    156058        8544   \n",
              "156058    156059        8544   \n",
              "156059    156060        8544   \n",
              "\n",
              "                                                   Phrase  Sentiment  \n",
              "0       A series of escapades demonstrating the adage ...          1  \n",
              "1       A series of escapades demonstrating the adage ...          2  \n",
              "2                                                A series          2  \n",
              "3                                                       A          2  \n",
              "4                                                  series          2  \n",
              "...                                                   ...        ...  \n",
              "156055                                          Hearst 's          2  \n",
              "156056                          forced avuncular chortles          1  \n",
              "156057                                 avuncular chortles          3  \n",
              "156058                                          avuncular          2  \n",
              "156059                                           chortles          2  \n",
              "\n",
              "[156060 rows x 4 columns]"
            ],
            "text/html": [
              "\n",
              "  <div id=\"df-211db50f-810d-4a82-8f6a-2013e3c1d973\">\n",
              "    <div class=\"colab-df-container\">\n",
              "      <div>\n",
              "<style scoped>\n",
              "    .dataframe tbody tr th:only-of-type {\n",
              "        vertical-align: middle;\n",
              "    }\n",
              "\n",
              "    .dataframe tbody tr th {\n",
              "        vertical-align: top;\n",
              "    }\n",
              "\n",
              "    .dataframe thead th {\n",
              "        text-align: right;\n",
              "    }\n",
              "</style>\n",
              "<table border=\"1\" class=\"dataframe\">\n",
              "  <thead>\n",
              "    <tr style=\"text-align: right;\">\n",
              "      <th></th>\n",
              "      <th>PhraseId</th>\n",
              "      <th>SentenceId</th>\n",
              "      <th>Phrase</th>\n",
              "      <th>Sentiment</th>\n",
              "    </tr>\n",
              "  </thead>\n",
              "  <tbody>\n",
              "    <tr>\n",
              "      <th>0</th>\n",
              "      <td>1</td>\n",
              "      <td>1</td>\n",
              "      <td>A series of escapades demonstrating the adage ...</td>\n",
              "      <td>1</td>\n",
              "    </tr>\n",
              "    <tr>\n",
              "      <th>1</th>\n",
              "      <td>2</td>\n",
              "      <td>1</td>\n",
              "      <td>A series of escapades demonstrating the adage ...</td>\n",
              "      <td>2</td>\n",
              "    </tr>\n",
              "    <tr>\n",
              "      <th>2</th>\n",
              "      <td>3</td>\n",
              "      <td>1</td>\n",
              "      <td>A series</td>\n",
              "      <td>2</td>\n",
              "    </tr>\n",
              "    <tr>\n",
              "      <th>3</th>\n",
              "      <td>4</td>\n",
              "      <td>1</td>\n",
              "      <td>A</td>\n",
              "      <td>2</td>\n",
              "    </tr>\n",
              "    <tr>\n",
              "      <th>4</th>\n",
              "      <td>5</td>\n",
              "      <td>1</td>\n",
              "      <td>series</td>\n",
              "      <td>2</td>\n",
              "    </tr>\n",
              "    <tr>\n",
              "      <th>...</th>\n",
              "      <td>...</td>\n",
              "      <td>...</td>\n",
              "      <td>...</td>\n",
              "      <td>...</td>\n",
              "    </tr>\n",
              "    <tr>\n",
              "      <th>156055</th>\n",
              "      <td>156056</td>\n",
              "      <td>8544</td>\n",
              "      <td>Hearst 's</td>\n",
              "      <td>2</td>\n",
              "    </tr>\n",
              "    <tr>\n",
              "      <th>156056</th>\n",
              "      <td>156057</td>\n",
              "      <td>8544</td>\n",
              "      <td>forced avuncular chortles</td>\n",
              "      <td>1</td>\n",
              "    </tr>\n",
              "    <tr>\n",
              "      <th>156057</th>\n",
              "      <td>156058</td>\n",
              "      <td>8544</td>\n",
              "      <td>avuncular chortles</td>\n",
              "      <td>3</td>\n",
              "    </tr>\n",
              "    <tr>\n",
              "      <th>156058</th>\n",
              "      <td>156059</td>\n",
              "      <td>8544</td>\n",
              "      <td>avuncular</td>\n",
              "      <td>2</td>\n",
              "    </tr>\n",
              "    <tr>\n",
              "      <th>156059</th>\n",
              "      <td>156060</td>\n",
              "      <td>8544</td>\n",
              "      <td>chortles</td>\n",
              "      <td>2</td>\n",
              "    </tr>\n",
              "  </tbody>\n",
              "</table>\n",
              "<p>156060 rows × 4 columns</p>\n",
              "</div>\n",
              "      <button class=\"colab-df-convert\" onclick=\"convertToInteractive('df-211db50f-810d-4a82-8f6a-2013e3c1d973')\"\n",
              "              title=\"Convert this dataframe to an interactive table.\"\n",
              "              style=\"display:none;\">\n",
              "        \n",
              "  <svg xmlns=\"http://www.w3.org/2000/svg\" height=\"24px\"viewBox=\"0 0 24 24\"\n",
              "       width=\"24px\">\n",
              "    <path d=\"M0 0h24v24H0V0z\" fill=\"none\"/>\n",
              "    <path d=\"M18.56 5.44l.94 2.06.94-2.06 2.06-.94-2.06-.94-.94-2.06-.94 2.06-2.06.94zm-11 1L8.5 8.5l.94-2.06 2.06-.94-2.06-.94L8.5 2.5l-.94 2.06-2.06.94zm10 10l.94 2.06.94-2.06 2.06-.94-2.06-.94-.94-2.06-.94 2.06-2.06.94z\"/><path d=\"M17.41 7.96l-1.37-1.37c-.4-.4-.92-.59-1.43-.59-.52 0-1.04.2-1.43.59L10.3 9.45l-7.72 7.72c-.78.78-.78 2.05 0 2.83L4 21.41c.39.39.9.59 1.41.59.51 0 1.02-.2 1.41-.59l7.78-7.78 2.81-2.81c.8-.78.8-2.07 0-2.86zM5.41 20L4 18.59l7.72-7.72 1.47 1.35L5.41 20z\"/>\n",
              "  </svg>\n",
              "      </button>\n",
              "      \n",
              "  <style>\n",
              "    .colab-df-container {\n",
              "      display:flex;\n",
              "      flex-wrap:wrap;\n",
              "      gap: 12px;\n",
              "    }\n",
              "\n",
              "    .colab-df-convert {\n",
              "      background-color: #E8F0FE;\n",
              "      border: none;\n",
              "      border-radius: 50%;\n",
              "      cursor: pointer;\n",
              "      display: none;\n",
              "      fill: #1967D2;\n",
              "      height: 32px;\n",
              "      padding: 0 0 0 0;\n",
              "      width: 32px;\n",
              "    }\n",
              "\n",
              "    .colab-df-convert:hover {\n",
              "      background-color: #E2EBFA;\n",
              "      box-shadow: 0px 1px 2px rgba(60, 64, 67, 0.3), 0px 1px 3px 1px rgba(60, 64, 67, 0.15);\n",
              "      fill: #174EA6;\n",
              "    }\n",
              "\n",
              "    [theme=dark] .colab-df-convert {\n",
              "      background-color: #3B4455;\n",
              "      fill: #D2E3FC;\n",
              "    }\n",
              "\n",
              "    [theme=dark] .colab-df-convert:hover {\n",
              "      background-color: #434B5C;\n",
              "      box-shadow: 0px 1px 3px 1px rgba(0, 0, 0, 0.15);\n",
              "      filter: drop-shadow(0px 1px 2px rgba(0, 0, 0, 0.3));\n",
              "      fill: #FFFFFF;\n",
              "    }\n",
              "  </style>\n",
              "\n",
              "      <script>\n",
              "        const buttonEl =\n",
              "          document.querySelector('#df-211db50f-810d-4a82-8f6a-2013e3c1d973 button.colab-df-convert');\n",
              "        buttonEl.style.display =\n",
              "          google.colab.kernel.accessAllowed ? 'block' : 'none';\n",
              "\n",
              "        async function convertToInteractive(key) {\n",
              "          const element = document.querySelector('#df-211db50f-810d-4a82-8f6a-2013e3c1d973');\n",
              "          const dataTable =\n",
              "            await google.colab.kernel.invokeFunction('convertToInteractive',\n",
              "                                                     [key], {});\n",
              "          if (!dataTable) return;\n",
              "\n",
              "          const docLinkHtml = 'Like what you see? Visit the ' +\n",
              "            '<a target=\"_blank\" href=https://colab.research.google.com/notebooks/data_table.ipynb>data table notebook</a>'\n",
              "            + ' to learn more about interactive tables.';\n",
              "          element.innerHTML = '';\n",
              "          dataTable['output_type'] = 'display_data';\n",
              "          await google.colab.output.renderOutput(dataTable, element);\n",
              "          const docLink = document.createElement('div');\n",
              "          docLink.innerHTML = docLinkHtml;\n",
              "          element.appendChild(docLink);\n",
              "        }\n",
              "      </script>\n",
              "    </div>\n",
              "  </div>\n",
              "  "
            ]
          },
          "metadata": {},
          "execution_count": 9
        }
      ]
    },
    {
      "cell_type": "code",
      "source": [
        "raw_df.Phrase.sample(10).values"
      ],
      "metadata": {
        "colab": {
          "base_uri": "https://localhost:8080/"
        },
        "id": "2mPGxRbHoXTt",
        "outputId": "21c651d3-4059-4efe-c53e-6f880cb5be9e"
      },
      "execution_count": 10,
      "outputs": [
        {
          "output_type": "execute_result",
          "data": {
            "text/plain": [
              "array(['operates', 'especially in a moral sense',\n",
              "       'A grating , emaciated flick', 'psycho killer',\n",
              "       'by an esteemed writer-actor', 'tortured and', 'the con',\n",
              "       ', observant',\n",
              "       'should have been a more compelling excuse to pair Susan Sarandon and Goldie Hawn',\n",
              "       \"' I speak fluent flatula , ' advises Denlopp after a rather , er , bubbly exchange with an alien deckhand -RRB-\"],\n",
              "      dtype=object)"
            ]
          },
          "metadata": {},
          "execution_count": 10
        }
      ]
    },
    {
      "cell_type": "code",
      "source": [
        "test_df = pd.read_csv(test_fname,sep='\\t')\n",
        "test_df"
      ],
      "metadata": {
        "colab": {
          "base_uri": "https://localhost:8080/",
          "height": 424
        },
        "id": "X5n_LZouofOt",
        "outputId": "ef0e3617-8e51-4a8b-8da7-5ed5a4d2c1b1"
      },
      "execution_count": 11,
      "outputs": [
        {
          "output_type": "execute_result",
          "data": {
            "text/plain": [
              "       PhraseId  SentenceId                                             Phrase\n",
              "0        156061        8545  An intermittently pleasing but mostly routine ...\n",
              "1        156062        8545  An intermittently pleasing but mostly routine ...\n",
              "2        156063        8545                                                 An\n",
              "3        156064        8545  intermittently pleasing but mostly routine effort\n",
              "4        156065        8545         intermittently pleasing but mostly routine\n",
              "...         ...         ...                                                ...\n",
              "66287    222348       11855             A long-winded , predictable scenario .\n",
              "66288    222349       11855               A long-winded , predictable scenario\n",
              "66289    222350       11855                                    A long-winded ,\n",
              "66290    222351       11855                                      A long-winded\n",
              "66291    222352       11855                               predictable scenario\n",
              "\n",
              "[66292 rows x 3 columns]"
            ],
            "text/html": [
              "\n",
              "  <div id=\"df-d8d43d70-ce6b-47c7-a6f5-f2195aebe48d\">\n",
              "    <div class=\"colab-df-container\">\n",
              "      <div>\n",
              "<style scoped>\n",
              "    .dataframe tbody tr th:only-of-type {\n",
              "        vertical-align: middle;\n",
              "    }\n",
              "\n",
              "    .dataframe tbody tr th {\n",
              "        vertical-align: top;\n",
              "    }\n",
              "\n",
              "    .dataframe thead th {\n",
              "        text-align: right;\n",
              "    }\n",
              "</style>\n",
              "<table border=\"1\" class=\"dataframe\">\n",
              "  <thead>\n",
              "    <tr style=\"text-align: right;\">\n",
              "      <th></th>\n",
              "      <th>PhraseId</th>\n",
              "      <th>SentenceId</th>\n",
              "      <th>Phrase</th>\n",
              "    </tr>\n",
              "  </thead>\n",
              "  <tbody>\n",
              "    <tr>\n",
              "      <th>0</th>\n",
              "      <td>156061</td>\n",
              "      <td>8545</td>\n",
              "      <td>An intermittently pleasing but mostly routine ...</td>\n",
              "    </tr>\n",
              "    <tr>\n",
              "      <th>1</th>\n",
              "      <td>156062</td>\n",
              "      <td>8545</td>\n",
              "      <td>An intermittently pleasing but mostly routine ...</td>\n",
              "    </tr>\n",
              "    <tr>\n",
              "      <th>2</th>\n",
              "      <td>156063</td>\n",
              "      <td>8545</td>\n",
              "      <td>An</td>\n",
              "    </tr>\n",
              "    <tr>\n",
              "      <th>3</th>\n",
              "      <td>156064</td>\n",
              "      <td>8545</td>\n",
              "      <td>intermittently pleasing but mostly routine effort</td>\n",
              "    </tr>\n",
              "    <tr>\n",
              "      <th>4</th>\n",
              "      <td>156065</td>\n",
              "      <td>8545</td>\n",
              "      <td>intermittently pleasing but mostly routine</td>\n",
              "    </tr>\n",
              "    <tr>\n",
              "      <th>...</th>\n",
              "      <td>...</td>\n",
              "      <td>...</td>\n",
              "      <td>...</td>\n",
              "    </tr>\n",
              "    <tr>\n",
              "      <th>66287</th>\n",
              "      <td>222348</td>\n",
              "      <td>11855</td>\n",
              "      <td>A long-winded , predictable scenario .</td>\n",
              "    </tr>\n",
              "    <tr>\n",
              "      <th>66288</th>\n",
              "      <td>222349</td>\n",
              "      <td>11855</td>\n",
              "      <td>A long-winded , predictable scenario</td>\n",
              "    </tr>\n",
              "    <tr>\n",
              "      <th>66289</th>\n",
              "      <td>222350</td>\n",
              "      <td>11855</td>\n",
              "      <td>A long-winded ,</td>\n",
              "    </tr>\n",
              "    <tr>\n",
              "      <th>66290</th>\n",
              "      <td>222351</td>\n",
              "      <td>11855</td>\n",
              "      <td>A long-winded</td>\n",
              "    </tr>\n",
              "    <tr>\n",
              "      <th>66291</th>\n",
              "      <td>222352</td>\n",
              "      <td>11855</td>\n",
              "      <td>predictable scenario</td>\n",
              "    </tr>\n",
              "  </tbody>\n",
              "</table>\n",
              "<p>66292 rows × 3 columns</p>\n",
              "</div>\n",
              "      <button class=\"colab-df-convert\" onclick=\"convertToInteractive('df-d8d43d70-ce6b-47c7-a6f5-f2195aebe48d')\"\n",
              "              title=\"Convert this dataframe to an interactive table.\"\n",
              "              style=\"display:none;\">\n",
              "        \n",
              "  <svg xmlns=\"http://www.w3.org/2000/svg\" height=\"24px\"viewBox=\"0 0 24 24\"\n",
              "       width=\"24px\">\n",
              "    <path d=\"M0 0h24v24H0V0z\" fill=\"none\"/>\n",
              "    <path d=\"M18.56 5.44l.94 2.06.94-2.06 2.06-.94-2.06-.94-.94-2.06-.94 2.06-2.06.94zm-11 1L8.5 8.5l.94-2.06 2.06-.94-2.06-.94L8.5 2.5l-.94 2.06-2.06.94zm10 10l.94 2.06.94-2.06 2.06-.94-2.06-.94-.94-2.06-.94 2.06-2.06.94z\"/><path d=\"M17.41 7.96l-1.37-1.37c-.4-.4-.92-.59-1.43-.59-.52 0-1.04.2-1.43.59L10.3 9.45l-7.72 7.72c-.78.78-.78 2.05 0 2.83L4 21.41c.39.39.9.59 1.41.59.51 0 1.02-.2 1.41-.59l7.78-7.78 2.81-2.81c.8-.78.8-2.07 0-2.86zM5.41 20L4 18.59l7.72-7.72 1.47 1.35L5.41 20z\"/>\n",
              "  </svg>\n",
              "      </button>\n",
              "      \n",
              "  <style>\n",
              "    .colab-df-container {\n",
              "      display:flex;\n",
              "      flex-wrap:wrap;\n",
              "      gap: 12px;\n",
              "    }\n",
              "\n",
              "    .colab-df-convert {\n",
              "      background-color: #E8F0FE;\n",
              "      border: none;\n",
              "      border-radius: 50%;\n",
              "      cursor: pointer;\n",
              "      display: none;\n",
              "      fill: #1967D2;\n",
              "      height: 32px;\n",
              "      padding: 0 0 0 0;\n",
              "      width: 32px;\n",
              "    }\n",
              "\n",
              "    .colab-df-convert:hover {\n",
              "      background-color: #E2EBFA;\n",
              "      box-shadow: 0px 1px 2px rgba(60, 64, 67, 0.3), 0px 1px 3px 1px rgba(60, 64, 67, 0.15);\n",
              "      fill: #174EA6;\n",
              "    }\n",
              "\n",
              "    [theme=dark] .colab-df-convert {\n",
              "      background-color: #3B4455;\n",
              "      fill: #D2E3FC;\n",
              "    }\n",
              "\n",
              "    [theme=dark] .colab-df-convert:hover {\n",
              "      background-color: #434B5C;\n",
              "      box-shadow: 0px 1px 3px 1px rgba(0, 0, 0, 0.15);\n",
              "      filter: drop-shadow(0px 1px 2px rgba(0, 0, 0, 0.3));\n",
              "      fill: #FFFFFF;\n",
              "    }\n",
              "  </style>\n",
              "\n",
              "      <script>\n",
              "        const buttonEl =\n",
              "          document.querySelector('#df-d8d43d70-ce6b-47c7-a6f5-f2195aebe48d button.colab-df-convert');\n",
              "        buttonEl.style.display =\n",
              "          google.colab.kernel.accessAllowed ? 'block' : 'none';\n",
              "\n",
              "        async function convertToInteractive(key) {\n",
              "          const element = document.querySelector('#df-d8d43d70-ce6b-47c7-a6f5-f2195aebe48d');\n",
              "          const dataTable =\n",
              "            await google.colab.kernel.invokeFunction('convertToInteractive',\n",
              "                                                     [key], {});\n",
              "          if (!dataTable) return;\n",
              "\n",
              "          const docLinkHtml = 'Like what you see? Visit the ' +\n",
              "            '<a target=\"_blank\" href=https://colab.research.google.com/notebooks/data_table.ipynb>data table notebook</a>'\n",
              "            + ' to learn more about interactive tables.';\n",
              "          element.innerHTML = '';\n",
              "          dataTable['output_type'] = 'display_data';\n",
              "          await google.colab.output.renderOutput(dataTable, element);\n",
              "          const docLink = document.createElement('div');\n",
              "          docLink.innerHTML = docLinkHtml;\n",
              "          element.appendChild(docLink);\n",
              "        }\n",
              "      </script>\n",
              "    </div>\n",
              "  </div>\n",
              "  "
            ]
          },
          "metadata": {},
          "execution_count": 11
        }
      ]
    },
    {
      "cell_type": "code",
      "source": [
        "sub_df = pd.read_csv(sub_fname)\n",
        "sub_df"
      ],
      "metadata": {
        "colab": {
          "base_uri": "https://localhost:8080/",
          "height": 424
        },
        "id": "sVB2E6igoqaP",
        "outputId": "1b8a4e7a-e8dd-472b-d849-5c40fd6cd964"
      },
      "execution_count": 12,
      "outputs": [
        {
          "output_type": "execute_result",
          "data": {
            "text/plain": [
              "       PhraseId  Sentiment\n",
              "0        156061          2\n",
              "1        156062          2\n",
              "2        156063          2\n",
              "3        156064          2\n",
              "4        156065          2\n",
              "...         ...        ...\n",
              "66287    222348          2\n",
              "66288    222349          2\n",
              "66289    222350          2\n",
              "66290    222351          2\n",
              "66291    222352          2\n",
              "\n",
              "[66292 rows x 2 columns]"
            ],
            "text/html": [
              "\n",
              "  <div id=\"df-fc4f1afb-6970-41cb-8658-23b658edf73e\">\n",
              "    <div class=\"colab-df-container\">\n",
              "      <div>\n",
              "<style scoped>\n",
              "    .dataframe tbody tr th:only-of-type {\n",
              "        vertical-align: middle;\n",
              "    }\n",
              "\n",
              "    .dataframe tbody tr th {\n",
              "        vertical-align: top;\n",
              "    }\n",
              "\n",
              "    .dataframe thead th {\n",
              "        text-align: right;\n",
              "    }\n",
              "</style>\n",
              "<table border=\"1\" class=\"dataframe\">\n",
              "  <thead>\n",
              "    <tr style=\"text-align: right;\">\n",
              "      <th></th>\n",
              "      <th>PhraseId</th>\n",
              "      <th>Sentiment</th>\n",
              "    </tr>\n",
              "  </thead>\n",
              "  <tbody>\n",
              "    <tr>\n",
              "      <th>0</th>\n",
              "      <td>156061</td>\n",
              "      <td>2</td>\n",
              "    </tr>\n",
              "    <tr>\n",
              "      <th>1</th>\n",
              "      <td>156062</td>\n",
              "      <td>2</td>\n",
              "    </tr>\n",
              "    <tr>\n",
              "      <th>2</th>\n",
              "      <td>156063</td>\n",
              "      <td>2</td>\n",
              "    </tr>\n",
              "    <tr>\n",
              "      <th>3</th>\n",
              "      <td>156064</td>\n",
              "      <td>2</td>\n",
              "    </tr>\n",
              "    <tr>\n",
              "      <th>4</th>\n",
              "      <td>156065</td>\n",
              "      <td>2</td>\n",
              "    </tr>\n",
              "    <tr>\n",
              "      <th>...</th>\n",
              "      <td>...</td>\n",
              "      <td>...</td>\n",
              "    </tr>\n",
              "    <tr>\n",
              "      <th>66287</th>\n",
              "      <td>222348</td>\n",
              "      <td>2</td>\n",
              "    </tr>\n",
              "    <tr>\n",
              "      <th>66288</th>\n",
              "      <td>222349</td>\n",
              "      <td>2</td>\n",
              "    </tr>\n",
              "    <tr>\n",
              "      <th>66289</th>\n",
              "      <td>222350</td>\n",
              "      <td>2</td>\n",
              "    </tr>\n",
              "    <tr>\n",
              "      <th>66290</th>\n",
              "      <td>222351</td>\n",
              "      <td>2</td>\n",
              "    </tr>\n",
              "    <tr>\n",
              "      <th>66291</th>\n",
              "      <td>222352</td>\n",
              "      <td>2</td>\n",
              "    </tr>\n",
              "  </tbody>\n",
              "</table>\n",
              "<p>66292 rows × 2 columns</p>\n",
              "</div>\n",
              "      <button class=\"colab-df-convert\" onclick=\"convertToInteractive('df-fc4f1afb-6970-41cb-8658-23b658edf73e')\"\n",
              "              title=\"Convert this dataframe to an interactive table.\"\n",
              "              style=\"display:none;\">\n",
              "        \n",
              "  <svg xmlns=\"http://www.w3.org/2000/svg\" height=\"24px\"viewBox=\"0 0 24 24\"\n",
              "       width=\"24px\">\n",
              "    <path d=\"M0 0h24v24H0V0z\" fill=\"none\"/>\n",
              "    <path d=\"M18.56 5.44l.94 2.06.94-2.06 2.06-.94-2.06-.94-.94-2.06-.94 2.06-2.06.94zm-11 1L8.5 8.5l.94-2.06 2.06-.94-2.06-.94L8.5 2.5l-.94 2.06-2.06.94zm10 10l.94 2.06.94-2.06 2.06-.94-2.06-.94-.94-2.06-.94 2.06-2.06.94z\"/><path d=\"M17.41 7.96l-1.37-1.37c-.4-.4-.92-.59-1.43-.59-.52 0-1.04.2-1.43.59L10.3 9.45l-7.72 7.72c-.78.78-.78 2.05 0 2.83L4 21.41c.39.39.9.59 1.41.59.51 0 1.02-.2 1.41-.59l7.78-7.78 2.81-2.81c.8-.78.8-2.07 0-2.86zM5.41 20L4 18.59l7.72-7.72 1.47 1.35L5.41 20z\"/>\n",
              "  </svg>\n",
              "      </button>\n",
              "      \n",
              "  <style>\n",
              "    .colab-df-container {\n",
              "      display:flex;\n",
              "      flex-wrap:wrap;\n",
              "      gap: 12px;\n",
              "    }\n",
              "\n",
              "    .colab-df-convert {\n",
              "      background-color: #E8F0FE;\n",
              "      border: none;\n",
              "      border-radius: 50%;\n",
              "      cursor: pointer;\n",
              "      display: none;\n",
              "      fill: #1967D2;\n",
              "      height: 32px;\n",
              "      padding: 0 0 0 0;\n",
              "      width: 32px;\n",
              "    }\n",
              "\n",
              "    .colab-df-convert:hover {\n",
              "      background-color: #E2EBFA;\n",
              "      box-shadow: 0px 1px 2px rgba(60, 64, 67, 0.3), 0px 1px 3px 1px rgba(60, 64, 67, 0.15);\n",
              "      fill: #174EA6;\n",
              "    }\n",
              "\n",
              "    [theme=dark] .colab-df-convert {\n",
              "      background-color: #3B4455;\n",
              "      fill: #D2E3FC;\n",
              "    }\n",
              "\n",
              "    [theme=dark] .colab-df-convert:hover {\n",
              "      background-color: #434B5C;\n",
              "      box-shadow: 0px 1px 3px 1px rgba(0, 0, 0, 0.15);\n",
              "      filter: drop-shadow(0px 1px 2px rgba(0, 0, 0, 0.3));\n",
              "      fill: #FFFFFF;\n",
              "    }\n",
              "  </style>\n",
              "\n",
              "      <script>\n",
              "        const buttonEl =\n",
              "          document.querySelector('#df-fc4f1afb-6970-41cb-8658-23b658edf73e button.colab-df-convert');\n",
              "        buttonEl.style.display =\n",
              "          google.colab.kernel.accessAllowed ? 'block' : 'none';\n",
              "\n",
              "        async function convertToInteractive(key) {\n",
              "          const element = document.querySelector('#df-fc4f1afb-6970-41cb-8658-23b658edf73e');\n",
              "          const dataTable =\n",
              "            await google.colab.kernel.invokeFunction('convertToInteractive',\n",
              "                                                     [key], {});\n",
              "          if (!dataTable) return;\n",
              "\n",
              "          const docLinkHtml = 'Like what you see? Visit the ' +\n",
              "            '<a target=\"_blank\" href=https://colab.research.google.com/notebooks/data_table.ipynb>data table notebook</a>'\n",
              "            + ' to learn more about interactive tables.';\n",
              "          element.innerHTML = '';\n",
              "          dataTable['output_type'] = 'display_data';\n",
              "          await google.colab.output.renderOutput(dataTable, element);\n",
              "          const docLink = document.createElement('div');\n",
              "          docLink.innerHTML = docLinkHtml;\n",
              "          element.appendChild(docLink);\n",
              "        }\n",
              "      </script>\n",
              "    </div>\n",
              "  </div>\n",
              "  "
            ]
          },
          "metadata": {},
          "execution_count": 12
        }
      ]
    },
    {
      "cell_type": "code",
      "source": [
        "raw_df.Sentiment.value_counts(normalize=True)"
      ],
      "metadata": {
        "colab": {
          "base_uri": "https://localhost:8080/"
        },
        "id": "xZndJr6kpmJV",
        "outputId": "8757fc27-7022-4a52-d989-00753eb4965b"
      },
      "execution_count": 13,
      "outputs": [
        {
          "output_type": "execute_result",
          "data": {
            "text/plain": [
              "2    0.509945\n",
              "3    0.210989\n",
              "1    0.174760\n",
              "4    0.058990\n",
              "0    0.045316\n",
              "Name: Sentiment, dtype: float64"
            ]
          },
          "metadata": {},
          "execution_count": 13
        }
      ]
    },
    {
      "cell_type": "code",
      "source": [
        "raw_df.Sentiment.value_counts(normalize=True).sort_index().plot(kind='bar')"
      ],
      "metadata": {
        "colab": {
          "base_uri": "https://localhost:8080/",
          "height": 279
        },
        "id": "8EaCfJbMovS3",
        "outputId": "302a495d-d523-49e6-e95a-a1c0defb57a2"
      },
      "execution_count": 14,
      "outputs": [
        {
          "output_type": "execute_result",
          "data": {
            "text/plain": [
              "<matplotlib.axes._subplots.AxesSubplot at 0x7fdba96e32b0>"
            ]
          },
          "metadata": {},
          "execution_count": 14
        },
        {
          "output_type": "display_data",
          "data": {
            "text/plain": [
              "<Figure size 432x288 with 1 Axes>"
            ],
            "image/png": "[encoded data removed]"
          },
          "metadata": {
            "needs_background": "light"
          }
        }
      ]
    },
    {
      "cell_type": "markdown",
      "source": [
        "It can be seen that mostly movies are given with the sentiment rating 2 which means they are neutral."
      ],
      "metadata": {
        "id": "GBORXHtap3HW"
      }
    },
    {
      "cell_type": "markdown",
      "source": [
        "# Implement TF-IDF Technique\n",
        "![image.png](data:image/png;base64,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)"
      ],
      "metadata": {
        "id": "mKGVBe45qN4C"
      }
    },
    {
      "cell_type": "markdown",
      "source": [
        "We know that Bag of words creates a vector that contains the count of each word in the given sentence.\n",
        "Instead of actually keeping the count, we can multiply the count with the inverse document frequency"
      ],
      "metadata": {
        "id": "a1QRDVV4qbEf"
      }
    },
    {
      "cell_type": "markdown",
      "source": [
        "So if any word contains more of that value which means that the word is present in most of the sentences, then we dont want to take them into account of learning "
      ],
      "metadata": {
        "id": "i2rycpihqwU5"
      }
    },
    {
      "cell_type": "markdown",
      "source": [
        "#### Learn Vocabulary using `TfidfVectorizer `\n",
        "\n",
        "* Create custom tokenizer with stemming\n",
        "* Create a list of stop words\n",
        "* Configure and create `TfidfVectorizer `\n",
        "* Learn vocubulary from training set\n",
        "* View sample entries from vocabulary"
      ],
      "metadata": {
        "id": "nlFHZtyFrEYO"
      }
    },
    {
      "cell_type": "code",
      "source": [
        "from nltk.tokenize import word_tokenize"
      ],
      "metadata": {
        "id": "EUWwRYgDpy_2"
      },
      "execution_count": 15,
      "outputs": []
    },
    {
      "cell_type": "code",
      "source": [
        "import nltk\n",
        "nltk.download('punkt')"
      ],
      "metadata": {
        "colab": {
          "base_uri": "https://localhost:8080/"
        },
        "id": "Gs77MOXDrMO6",
        "outputId": "7a707b3a-8bf1-4cd2-9c1f-f1d6e4fffc60"
      },
      "execution_count": 16,
      "outputs": [
        {
          "output_type": "stream",
          "name": "stderr",
          "text": [
            "[nltk_data] Downloading package punkt to /root/nltk_data...\n",
            "[nltk_data]   Unzipping tokenizers/punkt.zip.\n"
          ]
        },
        {
          "output_type": "execute_result",
          "data": {
            "text/plain": [
              "True"
            ]
          },
          "metadata": {},
          "execution_count": 16
        }
      ]
    },
    {
      "cell_type": "code",
      "source": [
        "word_tokenize(\"This is Aakkash. How are you?\")"
      ],
      "metadata": {
        "colab": {
          "base_uri": "https://localhost:8080/"
        },
        "id": "0r2cwxQzrQVt",
        "outputId": "315504a3-ec67-40bb-bf66-99f2ef3b976a"
      },
      "execution_count": 17,
      "outputs": [
        {
          "output_type": "execute_result",
          "data": {
            "text/plain": [
              "['This', 'is', 'Aakkash', '.', 'How', 'are', 'you', '?']"
            ]
          },
          "metadata": {},
          "execution_count": 17
        }
      ]
    },
    {
      "cell_type": "code",
      "source": [
        "from nltk.stem.snowball import SnowballStemmer"
      ],
      "metadata": {
        "id": "fFmXQDpJrUYQ"
      },
      "execution_count": 18,
      "outputs": []
    },
    {
      "cell_type": "code",
      "source": [
        "stemmer = SnowballStemmer(language='english')"
      ],
      "metadata": {
        "id": "oxkFrEWkrcui"
      },
      "execution_count": 19,
      "outputs": []
    },
    {
      "cell_type": "code",
      "source": [
        "stemmer.stem(\"Eating\")"
      ],
      "metadata": {
        "colab": {
          "base_uri": "https://localhost:8080/",
          "height": 36
        },
        "id": "Lv_SIkVzrhXd",
        "outputId": "a03d816b-32af-4cc3-c18e-8c73d2dc8955"
      },
      "execution_count": 20,
      "outputs": [
        {
          "output_type": "execute_result",
          "data": {
            "text/plain": [
              "'eat'"
            ],
            "application/vnd.google.colaboratory.intrinsic+json": {
              "type": "string"
            }
          },
          "metadata": {},
          "execution_count": 20
        }
      ]
    },
    {
      "cell_type": "code",
      "source": [
        "nltk.download('stopwords')"
      ],
      "metadata": {
        "colab": {
          "base_uri": "https://localhost:8080/"
        },
        "id": "cMFqi9dascsE",
        "outputId": "7d3fe2c4-85cc-4d6c-93d4-f95b772d6f28"
      },
      "execution_count": 21,
      "outputs": [
        {
          "output_type": "stream",
          "name": "stderr",
          "text": [
            "[nltk_data] Downloading package stopwords to /root/nltk_data...\n",
            "[nltk_data]   Unzipping corpora/stopwords.zip.\n"
          ]
        },
        {
          "output_type": "execute_result",
          "data": {
            "text/plain": [
              "True"
            ]
          },
          "metadata": {},
          "execution_count": 21
        }
      ]
    },
    {
      "cell_type": "code",
      "source": [
        "from nltk.corpus import stopwords\n",
        "english_sw = stopwords.words('english')[:115]"
      ],
      "metadata": {
        "id": "w7IAlOgmsc-7"
      },
      "execution_count": 22,
      "outputs": []
    },
    {
      "cell_type": "code",
      "source": [
        "def tokenize(word):\n",
        "  return [stemmer.stem(w) for w in word_tokenize(word) if w.isalpha()]"
      ],
      "metadata": {
        "id": "Q84G0dbRrmOa"
      },
      "execution_count": 23,
      "outputs": []
    },
    {
      "cell_type": "code",
      "source": [
        "tokenize(\"This is Aakkash. I'm eating\")"
      ],
      "metadata": {
        "colab": {
          "base_uri": "https://localhost:8080/"
        },
        "id": "cCuRG0s5rxdm",
        "outputId": "b99ee9cc-43ef-4abc-b299-0836c3816072"
      },
      "execution_count": 24,
      "outputs": [
        {
          "output_type": "execute_result",
          "data": {
            "text/plain": [
              "['this', 'is', 'aakkash', 'i', 'eat']"
            ]
          },
          "metadata": {},
          "execution_count": 24
        }
      ]
    },
    {
      "cell_type": "code",
      "source": [
        "from sklearn.feature_extraction.text import TfidfVectorizer"
      ],
      "metadata": {
        "id": "LeHaD2n8r2rY"
      },
      "execution_count": 25,
      "outputs": []
    },
    {
      "cell_type": "code",
      "source": [
        "vectorizer = TfidfVectorizer(tokenizer=tokenize,stop_words=english_sw,ngram_range=(1,2),max_features=2400)"
      ],
      "metadata": {
        "id": "M7yN1ooPsRWp"
      },
      "execution_count": 26,
      "outputs": []
    },
    {
      "cell_type": "code",
      "source": [
        "vectorizer.fit(raw_df.Phrase)"
      ],
      "metadata": {
        "colab": {
          "base_uri": "https://localhost:8080/"
        },
        "id": "4l0ayU-Ps5on",
        "outputId": "c15c2735-6f8f-477c-cfab-c308a295a1d2"
      },
      "execution_count": 27,
      "outputs": [
        {
          "output_type": "stream",
          "name": "stderr",
          "text": [
            "/usr/local/lib/python3.8/dist-packages/sklearn/feature_extraction/text.py:516: UserWarning: The parameter 'token_pattern' will not be used since 'tokenizer' is not None'\n",
            "  warnings.warn(\n",
            "/usr/local/lib/python3.8/dist-packages/sklearn/feature_extraction/text.py:396: UserWarning: Your stop_words may be inconsistent with your preprocessing. Tokenizing the stop words generated tokens ['abov', 'ani', 'becaus', 'befor', 'doe', 'dure', 'onc', 'ourselv', 'themselv', 'whi', 'yourselv'] not in stop_words.\n",
            "  warnings.warn(\n"
          ]
        },
        {
          "output_type": "execute_result",
          "data": {
            "text/plain": [
              "TfidfVectorizer(max_features=2400, ngram_range=(1, 2),\n",
              "                stop_words=['i', 'me', 'my', 'myself', 'we', 'our', 'ours',\n",
              "                            'ourselves', 'you', \"you're\", \"you've\", \"you'll\",\n",
              "                            \"you'd\", 'your', 'yours', 'yourself', 'yourselves',\n",
              "                            'he', 'him', 'his', 'himself', 'she', \"she's\",\n",
              "                            'her', 'hers', 'herself', 'it', \"it's\", 'its',\n",
              "                            'itself', ...],\n",
              "                tokenizer=<function tokenize at 0x7fdbb5831d30>)"
            ]
          },
          "metadata": {},
          "execution_count": 27
        }
      ]
    },
    {
      "cell_type": "code",
      "source": [
        "len(vectorizer.vocabulary_)"
      ],
      "metadata": {
        "colab": {
          "base_uri": "https://localhost:8080/"
        },
        "id": "op0HQJketPWw",
        "outputId": "4c9970f5-5406-4cba-cdfa-e13a2a1f1bc8"
      },
      "execution_count": 28,
      "outputs": [
        {
          "output_type": "execute_result",
          "data": {
            "text/plain": [
              "2400"
            ]
          },
          "metadata": {},
          "execution_count": 28
        }
      ]
    },
    {
      "cell_type": "code",
      "source": [
        "vectorizer.get_feature_names_out()[:100]"
      ],
      "metadata": {
        "colab": {
          "base_uri": "https://localhost:8080/"
        },
        "id": "0fLmuGt6tZ9e",
        "outputId": "f6f34447-b4ba-45f5-8489-47498e7f6e25"
      },
      "execution_count": 29,
      "outputs": [
        {
          "output_type": "execute_result",
          "data": {
            "text/plain": [
              "array(['abandon', 'abil', 'abl', 'abov', 'absolut', 'absorb', 'abstract',\n",
              "       'absurd', 'abus', 'academi', 'accent', 'accept', 'access',\n",
              "       'accomplish', 'account', 'accur', 'ach', 'achiev', 'across', 'act',\n",
              "       'action', 'action film', 'action movi', 'action sequenc', 'actor',\n",
              "       'actress', 'actual', 'ad', 'adam', 'adam sandler', 'adapt', 'add',\n",
              "       'addit', 'adequ', 'admir', 'admit', 'adolesc', 'adult', 'advantag',\n",
              "       'adventur', 'affair', 'affect', 'affirm', 'afraid', 'age',\n",
              "       'aggress', 'ago', 'ahead', 'aid', 'aim', 'aimless', 'air', 'album',\n",
              "       'alien', 'aliv', 'allen', 'allow', 'almost', 'almost everi',\n",
              "       'alon', 'along', 'alreadi', 'also', 'altern', 'although', 'alway',\n",
              "       'amateurish', 'amaz', 'ambigu', 'ambit', 'ambiti', 'america',\n",
              "       'american', 'ami', 'among', 'amount', 'amus', 'analyz', 'angel',\n",
              "       'angl', 'angst', 'anguish', 'ani', 'ani movi', 'anim', 'ann',\n",
              "       'annoy', 'anoth', 'answer', 'antic', 'antwon', 'antwon fisher',\n",
              "       'anyon', 'anyth', 'apart', 'appar', 'appeal', 'appear', 'appli',\n",
              "       'appreci'], dtype=object)"
            ]
          },
          "metadata": {},
          "execution_count": 29
        }
      ]
    },
    {
      "cell_type": "markdown",
      "source": [
        "### Transform Training & Test Data\n",
        "\n",
        "* Transform phrases from training set\n",
        "* Transform phrases from test set\n",
        "* Look at some example values"
      ],
      "metadata": {
        "id": "4FwKSQ8qttUR"
      }
    },
    {
      "cell_type": "code",
      "source": [
        "raw_df"
      ],
      "metadata": {
        "colab": {
          "base_uri": "https://localhost:8080/",
          "height": 424
        },
        "id": "TY-QJ3Iztw8Z",
        "outputId": "13733c02-4529-49f6-f202-ece63074ec02"
      },
      "execution_count": 30,
      "outputs": [
        {
          "output_type": "execute_result",
          "data": {
            "text/plain": [
              "        PhraseId  SentenceId  \\\n",
              "0              1           1   \n",
              "1              2           1   \n",
              "2              3           1   \n",
              "3              4           1   \n",
              "4              5           1   \n",
              "...          ...         ...   \n",
              "156055    156056        8544   \n",
              "156056    156057        8544   \n",
              "156057    156058        8544   \n",
              "156058    156059        8544   \n",
              "156059    156060        8544   \n",
              "\n",
              "                                                   Phrase  Sentiment  \n",
              "0       A series of escapades demonstrating the adage ...          1  \n",
              "1       A series of escapades demonstrating the adage ...          2  \n",
              "2                                                A series          2  \n",
              "3                                                       A          2  \n",
              "4                                                  series          2  \n",
              "...                                                   ...        ...  \n",
              "156055                                          Hearst 's          2  \n",
              "156056                          forced avuncular chortles          1  \n",
              "156057                                 avuncular chortles          3  \n",
              "156058                                          avuncular          2  \n",
              "156059                                           chortles          2  \n",
              "\n",
              "[156060 rows x 4 columns]"
            ],
            "text/html": [
              "\n",
              "  <div id=\"df-35ef5791-9cd8-4e9e-98e9-a446c16d2d23\">\n",
              "    <div class=\"colab-df-container\">\n",
              "      <div>\n",
              "<style scoped>\n",
              "    .dataframe tbody tr th:only-of-type {\n",
              "        vertical-align: middle;\n",
              "    }\n",
              "\n",
              "    .dataframe tbody tr th {\n",
              "        vertical-align: top;\n",
              "    }\n",
              "\n",
              "    .dataframe thead th {\n",
              "        text-align: right;\n",
              "    }\n",
              "</style>\n",
              "<table border=\"1\" class=\"dataframe\">\n",
              "  <thead>\n",
              "    <tr style=\"text-align: right;\">\n",
              "      <th></th>\n",
              "      <th>PhraseId</th>\n",
              "      <th>SentenceId</th>\n",
              "      <th>Phrase</th>\n",
              "      <th>Sentiment</th>\n",
              "    </tr>\n",
              "  </thead>\n",
              "  <tbody>\n",
              "    <tr>\n",
              "      <th>0</th>\n",
              "      <td>1</td>\n",
              "      <td>1</td>\n",
              "      <td>A series of escapades demonstrating the adage ...</td>\n",
              "      <td>1</td>\n",
              "    </tr>\n",
              "    <tr>\n",
              "      <th>1</th>\n",
              "      <td>2</td>\n",
              "      <td>1</td>\n",
              "      <td>A series of escapades demonstrating the adage ...</td>\n",
              "      <td>2</td>\n",
              "    </tr>\n",
              "    <tr>\n",
              "      <th>2</th>\n",
              "      <td>3</td>\n",
              "      <td>1</td>\n",
              "      <td>A series</td>\n",
              "      <td>2</td>\n",
              "    </tr>\n",
              "    <tr>\n",
              "      <th>3</th>\n",
              "      <td>4</td>\n",
              "      <td>1</td>\n",
              "      <td>A</td>\n",
              "      <td>2</td>\n",
              "    </tr>\n",
              "    <tr>\n",
              "      <th>4</th>\n",
              "      <td>5</td>\n",
              "      <td>1</td>\n",
              "      <td>series</td>\n",
              "      <td>2</td>\n",
              "    </tr>\n",
              "    <tr>\n",
              "      <th>...</th>\n",
              "      <td>...</td>\n",
              "      <td>...</td>\n",
              "      <td>...</td>\n",
              "      <td>...</td>\n",
              "    </tr>\n",
              "    <tr>\n",
              "      <th>156055</th>\n",
              "      <td>156056</td>\n",
              "      <td>8544</td>\n",
              "      <td>Hearst 's</td>\n",
              "      <td>2</td>\n",
              "    </tr>\n",
              "    <tr>\n",
              "      <th>156056</th>\n",
              "      <td>156057</td>\n",
              "      <td>8544</td>\n",
              "      <td>forced avuncular chortles</td>\n",
              "      <td>1</td>\n",
              "    </tr>\n",
              "    <tr>\n",
              "      <th>156057</th>\n",
              "      <td>156058</td>\n",
              "      <td>8544</td>\n",
              "      <td>avuncular chortles</td>\n",
              "      <td>3</td>\n",
              "    </tr>\n",
              "    <tr>\n",
              "      <th>156058</th>\n",
              "      <td>156059</td>\n",
              "      <td>8544</td>\n",
              "      <td>avuncular</td>\n",
              "      <td>2</td>\n",
              "    </tr>\n",
              "    <tr>\n",
              "      <th>156059</th>\n",
              "      <td>156060</td>\n",
              "      <td>8544</td>\n",
              "      <td>chortles</td>\n",
              "      <td>2</td>\n",
              "    </tr>\n",
              "  </tbody>\n",
              "</table>\n",
              "<p>156060 rows × 4 columns</p>\n",
              "</div>\n",
              "      <button class=\"colab-df-convert\" onclick=\"convertToInteractive('df-35ef5791-9cd8-4e9e-98e9-a446c16d2d23')\"\n",
              "              title=\"Convert this dataframe to an interactive table.\"\n",
              "              style=\"display:none;\">\n",
              "        \n",
              "  <svg xmlns=\"http://www.w3.org/2000/svg\" height=\"24px\"viewBox=\"0 0 24 24\"\n",
              "       width=\"24px\">\n",
              "    <path d=\"M0 0h24v24H0V0z\" fill=\"none\"/>\n",
              "    <path d=\"M18.56 5.44l.94 2.06.94-2.06 2.06-.94-2.06-.94-.94-2.06-.94 2.06-2.06.94zm-11 1L8.5 8.5l.94-2.06 2.06-.94-2.06-.94L8.5 2.5l-.94 2.06-2.06.94zm10 10l.94 2.06.94-2.06 2.06-.94-2.06-.94-.94-2.06-.94 2.06-2.06.94z\"/><path d=\"M17.41 7.96l-1.37-1.37c-.4-.4-.92-.59-1.43-.59-.52 0-1.04.2-1.43.59L10.3 9.45l-7.72 7.72c-.78.78-.78 2.05 0 2.83L4 21.41c.39.39.9.59 1.41.59.51 0 1.02-.2 1.41-.59l7.78-7.78 2.81-2.81c.8-.78.8-2.07 0-2.86zM5.41 20L4 18.59l7.72-7.72 1.47 1.35L5.41 20z\"/>\n",
              "  </svg>\n",
              "      </button>\n",
              "      \n",
              "  <style>\n",
              "    .colab-df-container {\n",
              "      display:flex;\n",
              "      flex-wrap:wrap;\n",
              "      gap: 12px;\n",
              "    }\n",
              "\n",
              "    .colab-df-convert {\n",
              "      background-color: #E8F0FE;\n",
              "      border: none;\n",
              "      border-radius: 50%;\n",
              "      cursor: pointer;\n",
              "      display: none;\n",
              "      fill: #1967D2;\n",
              "      height: 32px;\n",
              "      padding: 0 0 0 0;\n",
              "      width: 32px;\n",
              "    }\n",
              "\n",
              "    .colab-df-convert:hover {\n",
              "      background-color: #E2EBFA;\n",
              "      box-shadow: 0px 1px 2px rgba(60, 64, 67, 0.3), 0px 1px 3px 1px rgba(60, 64, 67, 0.15);\n",
              "      fill: #174EA6;\n",
              "    }\n",
              "\n",
              "    [theme=dark] .colab-df-convert {\n",
              "      background-color: #3B4455;\n",
              "      fill: #D2E3FC;\n",
              "    }\n",
              "\n",
              "    [theme=dark] .colab-df-convert:hover {\n",
              "      background-color: #434B5C;\n",
              "      box-shadow: 0px 1px 3px 1px rgba(0, 0, 0, 0.15);\n",
              "      filter: drop-shadow(0px 1px 2px rgba(0, 0, 0, 0.3));\n",
              "      fill: #FFFFFF;\n",
              "    }\n",
              "  </style>\n",
              "\n",
              "      <script>\n",
              "        const buttonEl =\n",
              "          document.querySelector('#df-35ef5791-9cd8-4e9e-98e9-a446c16d2d23 button.colab-df-convert');\n",
              "        buttonEl.style.display =\n",
              "          google.colab.kernel.accessAllowed ? 'block' : 'none';\n",
              "\n",
              "        async function convertToInteractive(key) {\n",
              "          const element = document.querySelector('#df-35ef5791-9cd8-4e9e-98e9-a446c16d2d23');\n",
              "          const dataTable =\n",
              "            await google.colab.kernel.invokeFunction('convertToInteractive',\n",
              "                                                     [key], {});\n",
              "          if (!dataTable) return;\n",
              "\n",
              "          const docLinkHtml = 'Like what you see? Visit the ' +\n",
              "            '<a target=\"_blank\" href=https://colab.research.google.com/notebooks/data_table.ipynb>data table notebook</a>'\n",
              "            + ' to learn more about interactive tables.';\n",
              "          element.innerHTML = '';\n",
              "          dataTable['output_type'] = 'display_data';\n",
              "          await google.colab.output.renderOutput(dataTable, element);\n",
              "          const docLink = document.createElement('div');\n",
              "          docLink.innerHTML = docLinkHtml;\n",
              "          element.appendChild(docLink);\n",
              "        }\n",
              "      </script>\n",
              "    </div>\n",
              "  </div>\n",
              "  "
            ]
          },
          "metadata": {},
          "execution_count": 30
        }
      ]
    },
    {
      "cell_type": "code",
      "source": [
        "inputs = vectorizer.transform(raw_df.Phrase)"
      ],
      "metadata": {
        "id": "pjtrSqhatdGK"
      },
      "execution_count": 31,
      "outputs": []
    },
    {
      "cell_type": "code",
      "source": [
        "inputs.shape"
      ],
      "metadata": {
        "colab": {
          "base_uri": "https://localhost:8080/"
        },
        "id": "rS6ezOe7t0ZI",
        "outputId": "5912cb94-89b7-4c25-93fa-5618179cdf38"
      },
      "execution_count": 32,
      "outputs": [
        {
          "output_type": "execute_result",
          "data": {
            "text/plain": [
              "(156060, 2400)"
            ]
          },
          "metadata": {},
          "execution_count": 32
        }
      ]
    },
    {
      "cell_type": "code",
      "source": [
        "inputs.toarray()[0][:200]"
      ],
      "metadata": {
        "colab": {
          "base_uri": "https://localhost:8080/"
        },
        "id": "TdpSr_qut5V3",
        "outputId": "15ca68a8-71e6-4c1a-d0e7-9ce84a8b9628"
      },
      "execution_count": 33,
      "outputs": [
        {
          "output_type": "execute_result",
          "data": {
            "text/plain": [
              "array([0.        , 0.        , 0.        , 0.        , 0.        ,\n",
              "       0.        , 0.        , 0.        , 0.        , 0.        ,\n",
              "       0.        , 0.        , 0.        , 0.        , 0.        ,\n",
              "       0.        , 0.        , 0.        , 0.        , 0.        ,\n",
              "       0.        , 0.        , 0.        , 0.        , 0.        ,\n",
              "       0.        , 0.        , 0.        , 0.        , 0.        ,\n",
              "       0.        , 0.        , 0.        , 0.        , 0.        ,\n",
              "       0.        , 0.        , 0.        , 0.        , 0.        ,\n",
              "       0.        , 0.        , 0.        , 0.        , 0.        ,\n",
              "       0.        , 0.        , 0.        , 0.        , 0.        ,\n",
              "       0.        , 0.        , 0.        , 0.        , 0.        ,\n",
              "       0.        , 0.        , 0.        , 0.        , 0.        ,\n",
              "       0.        , 0.        , 0.27620188, 0.        , 0.        ,\n",
              "       0.        , 0.        , 0.        , 0.        , 0.        ,\n",
              "       0.        , 0.        , 0.        , 0.        , 0.        ,\n",
              "       0.33022325, 0.29314979, 0.        , 0.        , 0.        ,\n",
              "       0.        , 0.        , 0.        , 0.        , 0.        ,\n",
              "       0.        , 0.        , 0.        , 0.        , 0.        ,\n",
              "       0.        , 0.        , 0.        , 0.        , 0.        ,\n",
              "       0.        , 0.        , 0.        , 0.        , 0.        ,\n",
              "       0.        , 0.        , 0.        , 0.        , 0.        ,\n",
              "       0.        , 0.        , 0.        , 0.        , 0.        ,\n",
              "       0.        , 0.        , 0.        , 0.        , 0.        ,\n",
              "       0.        , 0.        , 0.        , 0.        , 0.        ,\n",
              "       0.        , 0.        , 0.        , 0.        , 0.        ,\n",
              "       0.        , 0.        , 0.        , 0.        , 0.        ,\n",
              "       0.        , 0.        , 0.        , 0.        , 0.        ,\n",
              "       0.        , 0.        , 0.        , 0.        , 0.        ,\n",
              "       0.        , 0.        , 0.        , 0.        , 0.        ,\n",
              "       0.        , 0.        , 0.        , 0.        , 0.        ,\n",
              "       0.        , 0.        , 0.        , 0.        , 0.        ,\n",
              "       0.        , 0.        , 0.        , 0.        , 0.        ,\n",
              "       0.        , 0.        , 0.        , 0.        , 0.        ,\n",
              "       0.        , 0.        , 0.        , 0.        , 0.        ,\n",
              "       0.        , 0.        , 0.        , 0.        , 0.        ,\n",
              "       0.        , 0.        , 0.        , 0.        , 0.        ,\n",
              "       0.        , 0.        , 0.        , 0.        , 0.        ,\n",
              "       0.        , 0.        , 0.        , 0.        , 0.        ,\n",
              "       0.        , 0.        , 0.        , 0.        , 0.        ,\n",
              "       0.        , 0.        , 0.        , 0.        , 0.        ])"
            ]
          },
          "metadata": {},
          "execution_count": 33
        }
      ]
    },
    {
      "cell_type": "code",
      "source": [
        "raw_df.Phrase[0]"
      ],
      "metadata": {
        "colab": {
          "base_uri": "https://localhost:8080/",
          "height": 53
        },
        "id": "1Xje4HvPuABV",
        "outputId": "780c5506-c3e7-4b5f-bf91-d34e37258c4d"
      },
      "execution_count": 34,
      "outputs": [
        {
          "output_type": "execute_result",
          "data": {
            "text/plain": [
              "'A series of escapades demonstrating the adage that what is good for the goose is also good for the gander , some of which occasionally amuses but none of which amounts to much of a story .'"
            ],
            "application/vnd.google.colaboratory.intrinsic+json": {
              "type": "string"
            }
          },
          "metadata": {},
          "execution_count": 34
        }
      ]
    },
    {
      "cell_type": "code",
      "source": [
        "test_inputs = vectorizer.transform(test_df.Phrase)"
      ],
      "metadata": {
        "id": "VV0ynPlLujcn"
      },
      "execution_count": 35,
      "outputs": []
    },
    {
      "cell_type": "code",
      "source": [
        "test_inputs.shape"
      ],
      "metadata": {
        "colab": {
          "base_uri": "https://localhost:8080/"
        },
        "id": "YE-B3pzRvCHb",
        "outputId": "008e0cc5-5081-42d3-b773-380cfeb13dc8"
      },
      "execution_count": 36,
      "outputs": [
        {
          "output_type": "execute_result",
          "data": {
            "text/plain": [
              "(66292, 2400)"
            ]
          },
          "metadata": {},
          "execution_count": 36
        }
      ]
    },
    {
      "cell_type": "code",
      "source": [
        "test_df"
      ],
      "metadata": {
        "colab": {
          "base_uri": "https://localhost:8080/",
          "height": 424
        },
        "id": "ZolhHg0Uetv8",
        "outputId": "dd948c9c-0d38-4113-ccb3-d5c3ed6d1743"
      },
      "execution_count": 37,
      "outputs": [
        {
          "output_type": "execute_result",
          "data": {
            "text/plain": [
              "       PhraseId  SentenceId                                             Phrase\n",
              "0        156061        8545  An intermittently pleasing but mostly routine ...\n",
              "1        156062        8545  An intermittently pleasing but mostly routine ...\n",
              "2        156063        8545                                                 An\n",
              "3        156064        8545  intermittently pleasing but mostly routine effort\n",
              "4        156065        8545         intermittently pleasing but mostly routine\n",
              "...         ...         ...                                                ...\n",
              "66287    222348       11855             A long-winded , predictable scenario .\n",
              "66288    222349       11855               A long-winded , predictable scenario\n",
              "66289    222350       11855                                    A long-winded ,\n",
              "66290    222351       11855                                      A long-winded\n",
              "66291    222352       11855                               predictable scenario\n",
              "\n",
              "[66292 rows x 3 columns]"
            ],
            "text/html": [
              "\n",
              "  <div id=\"df-fa94b2f6-c8b3-4310-8787-bef4f316393d\">\n",
              "    <div class=\"colab-df-container\">\n",
              "      <div>\n",
              "<style scoped>\n",
              "    .dataframe tbody tr th:only-of-type {\n",
              "        vertical-align: middle;\n",
              "    }\n",
              "\n",
              "    .dataframe tbody tr th {\n",
              "        vertical-align: top;\n",
              "    }\n",
              "\n",
              "    .dataframe thead th {\n",
              "        text-align: right;\n",
              "    }\n",
              "</style>\n",
              "<table border=\"1\" class=\"dataframe\">\n",
              "  <thead>\n",
              "    <tr style=\"text-align: right;\">\n",
              "      <th></th>\n",
              "      <th>PhraseId</th>\n",
              "      <th>SentenceId</th>\n",
              "      <th>Phrase</th>\n",
              "    </tr>\n",
              "  </thead>\n",
              "  <tbody>\n",
              "    <tr>\n",
              "      <th>0</th>\n",
              "      <td>156061</td>\n",
              "      <td>8545</td>\n",
              "      <td>An intermittently pleasing but mostly routine ...</td>\n",
              "    </tr>\n",
              "    <tr>\n",
              "      <th>1</th>\n",
              "      <td>156062</td>\n",
              "      <td>8545</td>\n",
              "      <td>An intermittently pleasing but mostly routine ...</td>\n",
              "    </tr>\n",
              "    <tr>\n",
              "      <th>2</th>\n",
              "      <td>156063</td>\n",
              "      <td>8545</td>\n",
              "      <td>An</td>\n",
              "    </tr>\n",
              "    <tr>\n",
              "      <th>3</th>\n",
              "      <td>156064</td>\n",
              "      <td>8545</td>\n",
              "      <td>intermittently pleasing but mostly routine effort</td>\n",
              "    </tr>\n",
              "    <tr>\n",
              "      <th>4</th>\n",
              "      <td>156065</td>\n",
              "      <td>8545</td>\n",
              "      <td>intermittently pleasing but mostly routine</td>\n",
              "    </tr>\n",
              "    <tr>\n",
              "      <th>...</th>\n",
              "      <td>...</td>\n",
              "      <td>...</td>\n",
              "      <td>...</td>\n",
              "    </tr>\n",
              "    <tr>\n",
              "      <th>66287</th>\n",
              "      <td>222348</td>\n",
              "      <td>11855</td>\n",
              "      <td>A long-winded , predictable scenario .</td>\n",
              "    </tr>\n",
              "    <tr>\n",
              "      <th>66288</th>\n",
              "      <td>222349</td>\n",
              "      <td>11855</td>\n",
              "      <td>A long-winded , predictable scenario</td>\n",
              "    </tr>\n",
              "    <tr>\n",
              "      <th>66289</th>\n",
              "      <td>222350</td>\n",
              "      <td>11855</td>\n",
              "      <td>A long-winded ,</td>\n",
              "    </tr>\n",
              "    <tr>\n",
              "      <th>66290</th>\n",
              "      <td>222351</td>\n",
              "      <td>11855</td>\n",
              "      <td>A long-winded</td>\n",
              "    </tr>\n",
              "    <tr>\n",
              "      <th>66291</th>\n",
              "      <td>222352</td>\n",
              "      <td>11855</td>\n",
              "      <td>predictable scenario</td>\n",
              "    </tr>\n",
              "  </tbody>\n",
              "</table>\n",
              "<p>66292 rows × 3 columns</p>\n",
              "</div>\n",
              "      <button class=\"colab-df-convert\" onclick=\"convertToInteractive('df-fa94b2f6-c8b3-4310-8787-bef4f316393d')\"\n",
              "              title=\"Convert this dataframe to an interactive table.\"\n",
              "              style=\"display:none;\">\n",
              "        \n",
              "  <svg xmlns=\"http://www.w3.org/2000/svg\" height=\"24px\"viewBox=\"0 0 24 24\"\n",
              "       width=\"24px\">\n",
              "    <path d=\"M0 0h24v24H0V0z\" fill=\"none\"/>\n",
              "    <path d=\"M18.56 5.44l.94 2.06.94-2.06 2.06-.94-2.06-.94-.94-2.06-.94 2.06-2.06.94zm-11 1L8.5 8.5l.94-2.06 2.06-.94-2.06-.94L8.5 2.5l-.94 2.06-2.06.94zm10 10l.94 2.06.94-2.06 2.06-.94-2.06-.94-.94-2.06-.94 2.06-2.06.94z\"/><path d=\"M17.41 7.96l-1.37-1.37c-.4-.4-.92-.59-1.43-.59-.52 0-1.04.2-1.43.59L10.3 9.45l-7.72 7.72c-.78.78-.78 2.05 0 2.83L4 21.41c.39.39.9.59 1.41.59.51 0 1.02-.2 1.41-.59l7.78-7.78 2.81-2.81c.8-.78.8-2.07 0-2.86zM5.41 20L4 18.59l7.72-7.72 1.47 1.35L5.41 20z\"/>\n",
              "  </svg>\n",
              "      </button>\n",
              "      \n",
              "  <style>\n",
              "    .colab-df-container {\n",
              "      display:flex;\n",
              "      flex-wrap:wrap;\n",
              "      gap: 12px;\n",
              "    }\n",
              "\n",
              "    .colab-df-convert {\n",
              "      background-color: #E8F0FE;\n",
              "      border: none;\n",
              "      border-radius: 50%;\n",
              "      cursor: pointer;\n",
              "      display: none;\n",
              "      fill: #1967D2;\n",
              "      height: 32px;\n",
              "      padding: 0 0 0 0;\n",
              "      width: 32px;\n",
              "    }\n",
              "\n",
              "    .colab-df-convert:hover {\n",
              "      background-color: #E2EBFA;\n",
              "      box-shadow: 0px 1px 2px rgba(60, 64, 67, 0.3), 0px 1px 3px 1px rgba(60, 64, 67, 0.15);\n",
              "      fill: #174EA6;\n",
              "    }\n",
              "\n",
              "    [theme=dark] .colab-df-convert {\n",
              "      background-color: #3B4455;\n",
              "      fill: #D2E3FC;\n",
              "    }\n",
              "\n",
              "    [theme=dark] .colab-df-convert:hover {\n",
              "      background-color: #434B5C;\n",
              "      box-shadow: 0px 1px 3px 1px rgba(0, 0, 0, 0.15);\n",
              "      filter: drop-shadow(0px 1px 2px rgba(0, 0, 0, 0.3));\n",
              "      fill: #FFFFFF;\n",
              "    }\n",
              "  </style>\n",
              "\n",
              "      <script>\n",
              "        const buttonEl =\n",
              "          document.querySelector('#df-fa94b2f6-c8b3-4310-8787-bef4f316393d button.colab-df-convert');\n",
              "        buttonEl.style.display =\n",
              "          google.colab.kernel.accessAllowed ? 'block' : 'none';\n",
              "\n",
              "        async function convertToInteractive(key) {\n",
              "          const element = document.querySelector('#df-fa94b2f6-c8b3-4310-8787-bef4f316393d');\n",
              "          const dataTable =\n",
              "            await google.colab.kernel.invokeFunction('convertToInteractive',\n",
              "                                                     [key], {});\n",
              "          if (!dataTable) return;\n",
              "\n",
              "          const docLinkHtml = 'Like what you see? Visit the ' +\n",
              "            '<a target=\"_blank\" href=https://colab.research.google.com/notebooks/data_table.ipynb>data table notebook</a>'\n",
              "            + ' to learn more about interactive tables.';\n",
              "          element.innerHTML = '';\n",
              "          dataTable['output_type'] = 'display_data';\n",
              "          await google.colab.output.renderOutput(dataTable, element);\n",
              "          const docLink = document.createElement('div');\n",
              "          docLink.innerHTML = docLinkHtml;\n",
              "          element.appendChild(docLink);\n",
              "        }\n",
              "      </script>\n",
              "    </div>\n",
              "  </div>\n",
              "  "
            ]
          },
          "metadata": {},
          "execution_count": 37
        }
      ]
    },
    {
      "cell_type": "markdown",
      "source": [
        "## Train Baseline Model & Submit to Kaggle\n",
        "\n",
        "1. Split training and validation sets\n",
        "2. Train logistic regression model\n",
        "3. Study predictions on sample phrases\n",
        "4. Make predictions and submit to Kaggle\n",
        "\n"
      ],
      "metadata": {
        "id": "j2gl3jK9vMnC"
      }
    },
    {
      "cell_type": "markdown",
      "source": [
        "We cannot perform a random splitting for the train and the validation set. The reason is because the input dataframe contains phrases from a single or same sentence and if random splitting is done, this could lead to the fact that some data is present in the training and some is present in the validation set"
      ],
      "metadata": {
        "id": "rVUDRXUdvto9"
      }
    },
    {
      "cell_type": "markdown",
      "source": [
        "So what we can do is that from 150K rows, we can have 100K for the training and remainig 50K for the validation set"
      ],
      "metadata": {
        "id": "aIy8NW7jwDBF"
      }
    },
    {
      "cell_type": "code",
      "source": [
        "train_size = 100_000"
      ],
      "metadata": {
        "id": "qV-YzEz1wNdB"
      },
      "execution_count": 38,
      "outputs": []
    },
    {
      "cell_type": "code",
      "source": [
        "train_inputs  = inputs[:train_size]\n",
        "train_targets = raw_df.Sentiment[:train_size]"
      ],
      "metadata": {
        "id": "CncyPXzRvGpE"
      },
      "execution_count": 39,
      "outputs": []
    },
    {
      "cell_type": "code",
      "source": [
        "train_inputs.shape,train_targets.shape"
      ],
      "metadata": {
        "colab": {
          "base_uri": "https://localhost:8080/"
        },
        "id": "px-gv56vwWc5",
        "outputId": "29e5e625-ced6-4a38-f3db-a47ef6408622"
      },
      "execution_count": 40,
      "outputs": [
        {
          "output_type": "execute_result",
          "data": {
            "text/plain": [
              "((100000, 2400), (100000,))"
            ]
          },
          "metadata": {},
          "execution_count": 40
        }
      ]
    },
    {
      "cell_type": "code",
      "source": [
        "val_inputs = inputs[train_size:]\n",
        "val_targets = raw_df.Sentiment[train_size:]"
      ],
      "metadata": {
        "id": "VQN0jSHswZ2L"
      },
      "execution_count": 41,
      "outputs": []
    },
    {
      "cell_type": "code",
      "source": [
        "val_inputs.shape,val_targets.shape"
      ],
      "metadata": {
        "colab": {
          "base_uri": "https://localhost:8080/"
        },
        "id": "co-hTI-bwfto",
        "outputId": "f53347d5-fdcd-4339-881f-f2e48a797a74"
      },
      "execution_count": 42,
      "outputs": [
        {
          "output_type": "execute_result",
          "data": {
            "text/plain": [
              "((56060, 2400), (56060,))"
            ]
          },
          "metadata": {},
          "execution_count": 42
        }
      ]
    },
    {
      "cell_type": "markdown",
      "source": [
        "# Train a Logistic regression model"
      ],
      "metadata": {
        "id": "igyyArHOwj-s"
      }
    },
    {
      "cell_type": "code",
      "source": [
        "from sklearn.linear_model import LogisticRegression"
      ],
      "metadata": {
        "id": "oxtqSzB3wiRj"
      },
      "execution_count": 43,
      "outputs": []
    },
    {
      "cell_type": "code",
      "source": [
        "model = LogisticRegression()"
      ],
      "metadata": {
        "id": "jih2PbaDwpBG"
      },
      "execution_count": 44,
      "outputs": []
    },
    {
      "cell_type": "code",
      "source": [
        "model.fit(train_inputs,train_targets)"
      ],
      "metadata": {
        "colab": {
          "base_uri": "https://localhost:8080/"
        },
        "id": "-eLNfutbwsQl",
        "outputId": "cfb9d50c-fb76-4f74-d486-98e8995d2133"
      },
      "execution_count": 45,
      "outputs": [
        {
          "output_type": "stream",
          "name": "stderr",
          "text": [
            "/usr/local/lib/python3.8/dist-packages/sklearn/linear_model/_logistic.py:814: ConvergenceWarning: lbfgs failed to converge (status=1):\n",
            "STOP: TOTAL NO. of ITERATIONS REACHED LIMIT.\n",
            "\n",
            "Increase the number of iterations (max_iter) or scale the data as shown in:\n",
            "    https://scikit-learn.org/stable/modules/preprocessing.html\n",
            "Please also refer to the documentation for alternative solver options:\n",
            "    https://scikit-learn.org/stable/modules/linear_model.html#logistic-regression\n",
            "  n_iter_i = _check_optimize_result(\n"
          ]
        },
        {
          "output_type": "execute_result",
          "data": {
            "text/plain": [
              "LogisticRegression()"
            ]
          },
          "metadata": {},
          "execution_count": 45
        }
      ]
    },
    {
      "cell_type": "code",
      "source": [
        "train_preds = model.predict(train_inputs)"
      ],
      "metadata": {
        "id": "QoELSBXUwu2g"
      },
      "execution_count": 46,
      "outputs": []
    },
    {
      "cell_type": "code",
      "source": [
        "train_targets"
      ],
      "metadata": {
        "colab": {
          "base_uri": "https://localhost:8080/"
        },
        "id": "u9VCMPNpw0b1",
        "outputId": "4a758e83-1655-46e1-b8de-0967306776f7"
      },
      "execution_count": 47,
      "outputs": [
        {
          "output_type": "execute_result",
          "data": {
            "text/plain": [
              "0        1\n",
              "1        2\n",
              "2        2\n",
              "3        2\n",
              "4        2\n",
              "        ..\n",
              "99995    2\n",
              "99996    2\n",
              "99997    3\n",
              "99998    2\n",
              "99999    4\n",
              "Name: Sentiment, Length: 100000, dtype: int64"
            ]
          },
          "metadata": {},
          "execution_count": 47
        }
      ]
    },
    {
      "cell_type": "code",
      "source": [
        "train_preds"
      ],
      "metadata": {
        "colab": {
          "base_uri": "https://localhost:8080/"
        },
        "id": "xz-0GnUJw2gx",
        "outputId": "ce006593-1ace-47c2-bace-4c10f13b0da0"
      },
      "execution_count": 48,
      "outputs": [
        {
          "output_type": "execute_result",
          "data": {
            "text/plain": [
              "array([3, 2, 2, ..., 2, 2, 2])"
            ]
          },
          "metadata": {},
          "execution_count": 48
        }
      ]
    },
    {
      "cell_type": "code",
      "source": [
        "from sklearn.metrics import accuracy_score\n",
        "accuracy_score(train_preds,train_targets)"
      ],
      "metadata": {
        "colab": {
          "base_uri": "https://localhost:8080/"
        },
        "id": "DJzAWuj2w3GB",
        "outputId": "b7320faa-5fa6-4a97-82ee-21248611b289"
      },
      "execution_count": 49,
      "outputs": [
        {
          "output_type": "execute_result",
          "data": {
            "text/plain": [
              "0.64771"
            ]
          },
          "metadata": {},
          "execution_count": 49
        }
      ]
    },
    {
      "cell_type": "code",
      "source": [
        "val_preds = model.predict(val_inputs)\n",
        "accuracy_score(val_preds,val_targets)"
      ],
      "metadata": {
        "colab": {
          "base_uri": "https://localhost:8080/"
        },
        "id": "PmAIWlO8w-Qw",
        "outputId": "381fb492-9cff-40fd-a484-af82a0e45408"
      },
      "execution_count": 50,
      "outputs": [
        {
          "output_type": "execute_result",
          "data": {
            "text/plain": [
              "0.5807170888333928"
            ]
          },
          "metadata": {},
          "execution_count": 50
        }
      ]
    },
    {
      "cell_type": "markdown",
      "source": [
        "# Study Predictions on Sample inputs"
      ],
      "metadata": {
        "id": "mMDjWIvxxLmQ"
      }
    },
    {
      "cell_type": "code",
      "source": [
        "small_df = raw_df.sample(20)"
      ],
      "metadata": {
        "id": "esnfH3PtxIb4"
      },
      "execution_count": 51,
      "outputs": []
    },
    {
      "cell_type": "code",
      "source": [
        "small_df"
      ],
      "metadata": {
        "colab": {
          "base_uri": "https://localhost:8080/",
          "height": 676
        },
        "id": "RzhrwaRXxQuj",
        "outputId": "2f03b511-5f15-4665-a383-602efdb18eb1"
      },
      "execution_count": 52,
      "outputs": [
        {
          "output_type": "execute_result",
          "data": {
            "text/plain": [
              "        PhraseId  SentenceId  \\\n",
              "136746    136747        7395   \n",
              "115627    115628        6163   \n",
              "35287      35288        1658   \n",
              "118271    118272        6319   \n",
              "55065      55066        2744   \n",
              "72259      72260        3693   \n",
              "8715        8716         363   \n",
              "90254      90255        4697   \n",
              "77150      77151        3969   \n",
              "124099    124100        6662   \n",
              "86207      86208        4463   \n",
              "109639    109640        5809   \n",
              "97223      97224        5083   \n",
              "33897      33898        1591   \n",
              "29523      29524        1368   \n",
              "113159    113160        6011   \n",
              "16572      16573         714   \n",
              "53006      53007        2627   \n",
              "132825    132826        7162   \n",
              "45442      45443        2208   \n",
              "\n",
              "                                                   Phrase  Sentiment  \n",
              "136746    's too bad that the rest is n't more compelling          1  \n",
              "115627                                  Israel in ferment          2  \n",
              "35287                 had this much imagination and nerve          3  \n",
              "118271  compliment to say that the film makes the view...          3  \n",
              "55065               , perhaps paradoxically , illuminated          2  \n",
              "72259                of lively songs for deft punctuation          2  \n",
              "8715                                               sloppy          0  \n",
              "90254                                         bigger-name          2  \n",
              "77150               between these two marginal characters          1  \n",
              "124099        though her talent is supposed to be growing          2  \n",
              "86207                                    overblown climax          1  \n",
              "109639                                      The slapstick          2  \n",
              "97223   Howard and his co-stars all give committed per...          1  \n",
              "33897                                            Fabulous          4  \n",
              "29523   that you only need to watch for about thirty s...          2  \n",
              "113159              can run away from home , but your ego          2  \n",
              "16572                                             Old Men          2  \n",
              "53006                                       underutilized          2  \n",
              "132825  There 's a delightfully quirky movie to be mad...          3  \n",
              "45442                                                seas          2  "
            ],
            "text/html": [
              "\n",
              "  <div id=\"df-d8458d6d-fac2-4410-8712-047855a57544\">\n",
              "    <div class=\"colab-df-container\">\n",
              "      <div>\n",
              "<style scoped>\n",
              "    .dataframe tbody tr th:only-of-type {\n",
              "        vertical-align: middle;\n",
              "    }\n",
              "\n",
              "    .dataframe tbody tr th {\n",
              "        vertical-align: top;\n",
              "    }\n",
              "\n",
              "    .dataframe thead th {\n",
              "        text-align: right;\n",
              "    }\n",
              "</style>\n",
              "<table border=\"1\" class=\"dataframe\">\n",
              "  <thead>\n",
              "    <tr style=\"text-align: right;\">\n",
              "      <th></th>\n",
              "      <th>PhraseId</th>\n",
              "      <th>SentenceId</th>\n",
              "      <th>Phrase</th>\n",
              "      <th>Sentiment</th>\n",
              "    </tr>\n",
              "  </thead>\n",
              "  <tbody>\n",
              "    <tr>\n",
              "      <th>136746</th>\n",
              "      <td>136747</td>\n",
              "      <td>7395</td>\n",
              "      <td>'s too bad that the rest is n't more compelling</td>\n",
              "      <td>1</td>\n",
              "    </tr>\n",
              "    <tr>\n",
              "      <th>115627</th>\n",
              "      <td>115628</td>\n",
              "      <td>6163</td>\n",
              "      <td>Israel in ferment</td>\n",
              "      <td>2</td>\n",
              "    </tr>\n",
              "    <tr>\n",
              "      <th>35287</th>\n",
              "      <td>35288</td>\n",
              "      <td>1658</td>\n",
              "      <td>had this much imagination and nerve</td>\n",
              "      <td>3</td>\n",
              "    </tr>\n",
              "    <tr>\n",
              "      <th>118271</th>\n",
              "      <td>118272</td>\n",
              "      <td>6319</td>\n",
              "      <td>compliment to say that the film makes the view...</td>\n",
              "      <td>3</td>\n",
              "    </tr>\n",
              "    <tr>\n",
              "      <th>55065</th>\n",
              "      <td>55066</td>\n",
              "      <td>2744</td>\n",
              "      <td>, perhaps paradoxically , illuminated</td>\n",
              "      <td>2</td>\n",
              "    </tr>\n",
              "    <tr>\n",
              "      <th>72259</th>\n",
              "      <td>72260</td>\n",
              "      <td>3693</td>\n",
              "      <td>of lively songs for deft punctuation</td>\n",
              "      <td>2</td>\n",
              "    </tr>\n",
              "    <tr>\n",
              "      <th>8715</th>\n",
              "      <td>8716</td>\n",
              "      <td>363</td>\n",
              "      <td>sloppy</td>\n",
              "      <td>0</td>\n",
              "    </tr>\n",
              "    <tr>\n",
              "      <th>90254</th>\n",
              "      <td>90255</td>\n",
              "      <td>4697</td>\n",
              "      <td>bigger-name</td>\n",
              "      <td>2</td>\n",
              "    </tr>\n",
              "    <tr>\n",
              "      <th>77150</th>\n",
              "      <td>77151</td>\n",
              "      <td>3969</td>\n",
              "      <td>between these two marginal characters</td>\n",
              "      <td>1</td>\n",
              "    </tr>\n",
              "    <tr>\n",
              "      <th>124099</th>\n",
              "      <td>124100</td>\n",
              "      <td>6662</td>\n",
              "      <td>though her talent is supposed to be growing</td>\n",
              "      <td>2</td>\n",
              "    </tr>\n",
              "    <tr>\n",
              "      <th>86207</th>\n",
              "      <td>86208</td>\n",
              "      <td>4463</td>\n",
              "      <td>overblown climax</td>\n",
              "      <td>1</td>\n",
              "    </tr>\n",
              "    <tr>\n",
              "      <th>109639</th>\n",
              "      <td>109640</td>\n",
              "      <td>5809</td>\n",
              "      <td>The slapstick</td>\n",
              "      <td>2</td>\n",
              "    </tr>\n",
              "    <tr>\n",
              "      <th>97223</th>\n",
              "      <td>97224</td>\n",
              "      <td>5083</td>\n",
              "      <td>Howard and his co-stars all give committed per...</td>\n",
              "      <td>1</td>\n",
              "    </tr>\n",
              "    <tr>\n",
              "      <th>33897</th>\n",
              "      <td>33898</td>\n",
              "      <td>1591</td>\n",
              "      <td>Fabulous</td>\n",
              "      <td>4</td>\n",
              "    </tr>\n",
              "    <tr>\n",
              "      <th>29523</th>\n",
              "      <td>29524</td>\n",
              "      <td>1368</td>\n",
              "      <td>that you only need to watch for about thirty s...</td>\n",
              "      <td>2</td>\n",
              "    </tr>\n",
              "    <tr>\n",
              "      <th>113159</th>\n",
              "      <td>113160</td>\n",
              "      <td>6011</td>\n",
              "      <td>can run away from home , but your ego</td>\n",
              "      <td>2</td>\n",
              "    </tr>\n",
              "    <tr>\n",
              "      <th>16572</th>\n",
              "      <td>16573</td>\n",
              "      <td>714</td>\n",
              "      <td>Old Men</td>\n",
              "      <td>2</td>\n",
              "    </tr>\n",
              "    <tr>\n",
              "      <th>53006</th>\n",
              "      <td>53007</td>\n",
              "      <td>2627</td>\n",
              "      <td>underutilized</td>\n",
              "      <td>2</td>\n",
              "    </tr>\n",
              "    <tr>\n",
              "      <th>132825</th>\n",
              "      <td>132826</td>\n",
              "      <td>7162</td>\n",
              "      <td>There 's a delightfully quirky movie to be mad...</td>\n",
              "      <td>3</td>\n",
              "    </tr>\n",
              "    <tr>\n",
              "      <th>45442</th>\n",
              "      <td>45443</td>\n",
              "      <td>2208</td>\n",
              "      <td>seas</td>\n",
              "      <td>2</td>\n",
              "    </tr>\n",
              "  </tbody>\n",
              "</table>\n",
              "</div>\n",
              "      <button class=\"colab-df-convert\" onclick=\"convertToInteractive('df-d8458d6d-fac2-4410-8712-047855a57544')\"\n",
              "              title=\"Convert this dataframe to an interactive table.\"\n",
              "              style=\"display:none;\">\n",
              "        \n",
              "  <svg xmlns=\"http://www.w3.org/2000/svg\" height=\"24px\"viewBox=\"0 0 24 24\"\n",
              "       width=\"24px\">\n",
              "    <path d=\"M0 0h24v24H0V0z\" fill=\"none\"/>\n",
              "    <path d=\"M18.56 5.44l.94 2.06.94-2.06 2.06-.94-2.06-.94-.94-2.06-.94 2.06-2.06.94zm-11 1L8.5 8.5l.94-2.06 2.06-.94-2.06-.94L8.5 2.5l-.94 2.06-2.06.94zm10 10l.94 2.06.94-2.06 2.06-.94-2.06-.94-.94-2.06-.94 2.06-2.06.94z\"/><path d=\"M17.41 7.96l-1.37-1.37c-.4-.4-.92-.59-1.43-.59-.52 0-1.04.2-1.43.59L10.3 9.45l-7.72 7.72c-.78.78-.78 2.05 0 2.83L4 21.41c.39.39.9.59 1.41.59.51 0 1.02-.2 1.41-.59l7.78-7.78 2.81-2.81c.8-.78.8-2.07 0-2.86zM5.41 20L4 18.59l7.72-7.72 1.47 1.35L5.41 20z\"/>\n",
              "  </svg>\n",
              "      </button>\n",
              "      \n",
              "  <style>\n",
              "    .colab-df-container {\n",
              "      display:flex;\n",
              "      flex-wrap:wrap;\n",
              "      gap: 12px;\n",
              "    }\n",
              "\n",
              "    .colab-df-convert {\n",
              "      background-color: #E8F0FE;\n",
              "      border: none;\n",
              "      border-radius: 50%;\n",
              "      cursor: pointer;\n",
              "      display: none;\n",
              "      fill: #1967D2;\n",
              "      height: 32px;\n",
              "      padding: 0 0 0 0;\n",
              "      width: 32px;\n",
              "    }\n",
              "\n",
              "    .colab-df-convert:hover {\n",
              "      background-color: #E2EBFA;\n",
              "      box-shadow: 0px 1px 2px rgba(60, 64, 67, 0.3), 0px 1px 3px 1px rgba(60, 64, 67, 0.15);\n",
              "      fill: #174EA6;\n",
              "    }\n",
              "\n",
              "    [theme=dark] .colab-df-convert {\n",
              "      background-color: #3B4455;\n",
              "      fill: #D2E3FC;\n",
              "    }\n",
              "\n",
              "    [theme=dark] .colab-df-convert:hover {\n",
              "      background-color: #434B5C;\n",
              "      box-shadow: 0px 1px 3px 1px rgba(0, 0, 0, 0.15);\n",
              "      filter: drop-shadow(0px 1px 2px rgba(0, 0, 0, 0.3));\n",
              "      fill: #FFFFFF;\n",
              "    }\n",
              "  </style>\n",
              "\n",
              "      <script>\n",
              "        const buttonEl =\n",
              "          document.querySelector('#df-d8458d6d-fac2-4410-8712-047855a57544 button.colab-df-convert');\n",
              "        buttonEl.style.display =\n",
              "          google.colab.kernel.accessAllowed ? 'block' : 'none';\n",
              "\n",
              "        async function convertToInteractive(key) {\n",
              "          const element = document.querySelector('#df-d8458d6d-fac2-4410-8712-047855a57544');\n",
              "          const dataTable =\n",
              "            await google.colab.kernel.invokeFunction('convertToInteractive',\n",
              "                                                     [key], {});\n",
              "          if (!dataTable) return;\n",
              "\n",
              "          const docLinkHtml = 'Like what you see? Visit the ' +\n",
              "            '<a target=\"_blank\" href=https://colab.research.google.com/notebooks/data_table.ipynb>data table notebook</a>'\n",
              "            + ' to learn more about interactive tables.';\n",
              "          element.innerHTML = '';\n",
              "          dataTable['output_type'] = 'display_data';\n",
              "          await google.colab.output.renderOutput(dataTable, element);\n",
              "          const docLink = document.createElement('div');\n",
              "          docLink.innerHTML = docLinkHtml;\n",
              "          element.appendChild(docLink);\n",
              "        }\n",
              "      </script>\n",
              "    </div>\n",
              "  </div>\n",
              "  "
            ]
          },
          "metadata": {},
          "execution_count": 52
        }
      ]
    },
    {
      "cell_type": "code",
      "source": [
        "small_inputs = vectorizer.transform(small_df.Phrase)"
      ],
      "metadata": {
        "id": "ewIIChGUxRdR"
      },
      "execution_count": 53,
      "outputs": []
    },
    {
      "cell_type": "code",
      "source": [
        "small_inputs.shape"
      ],
      "metadata": {
        "colab": {
          "base_uri": "https://localhost:8080/"
        },
        "id": "pv3QYGyAxWvf",
        "outputId": "91de589d-375e-4853-dd4c-8d23275688da"
      },
      "execution_count": 54,
      "outputs": [
        {
          "output_type": "execute_result",
          "data": {
            "text/plain": [
              "(20, 2400)"
            ]
          },
          "metadata": {},
          "execution_count": 54
        }
      ]
    },
    {
      "cell_type": "code",
      "source": [
        "small_preds = model.predict(small_inputs)\n",
        "small_preds"
      ],
      "metadata": {
        "colab": {
          "base_uri": "https://localhost:8080/"
        },
        "id": "AmnIDb-BxZFk",
        "outputId": "84eb29ad-93f2-49e1-dc47-869bdf7f8e5b"
      },
      "execution_count": 55,
      "outputs": [
        {
          "output_type": "execute_result",
          "data": {
            "text/plain": [
              "array([1, 2, 2, 3, 2, 3, 0, 2, 2, 2, 2, 2, 3, 2, 2, 2, 2, 2, 4, 2])"
            ]
          },
          "metadata": {},
          "execution_count": 55
        }
      ]
    },
    {
      "cell_type": "code",
      "source": [
        "small_df.Sentiment"
      ],
      "metadata": {
        "colab": {
          "base_uri": "https://localhost:8080/"
        },
        "id": "fv35TfkMxeh7",
        "outputId": "55c411a0-6310-442f-adc0-6470c86f86d4"
      },
      "execution_count": 56,
      "outputs": [
        {
          "output_type": "execute_result",
          "data": {
            "text/plain": [
              "136746    1\n",
              "115627    2\n",
              "35287     3\n",
              "118271    3\n",
              "55065     2\n",
              "72259     2\n",
              "8715      0\n",
              "90254     2\n",
              "77150     1\n",
              "124099    2\n",
              "86207     1\n",
              "109639    2\n",
              "97223     1\n",
              "33897     4\n",
              "29523     2\n",
              "113159    2\n",
              "16572     2\n",
              "53006     2\n",
              "132825    3\n",
              "45442     2\n",
              "Name: Sentiment, dtype: int64"
            ]
          },
          "metadata": {},
          "execution_count": 56
        }
      ]
    },
    {
      "cell_type": "markdown",
      "source": [
        "### Make Predictions & Submit to Kaggle\n",
        "\n",
        "1. Make predictions on Test Dataset\n",
        "2. Generate & submit CSV on Kaggle\n",
        "3. Add screenshot of your score \n"
      ],
      "metadata": {
        "id": "ubjj3Iiwx34h"
      }
    },
    {
      "cell_type": "code",
      "source": [
        "test_df"
      ],
      "metadata": {
        "colab": {
          "base_uri": "https://localhost:8080/",
          "height": 424
        },
        "id": "XfAuoHgWxg3x",
        "outputId": "c80b306c-4910-4f80-b1a3-368b896128c6"
      },
      "execution_count": 57,
      "outputs": [
        {
          "output_type": "execute_result",
          "data": {
            "text/plain": [
              "       PhraseId  SentenceId                                             Phrase\n",
              "0        156061        8545  An intermittently pleasing but mostly routine ...\n",
              "1        156062        8545  An intermittently pleasing but mostly routine ...\n",
              "2        156063        8545                                                 An\n",
              "3        156064        8545  intermittently pleasing but mostly routine effort\n",
              "4        156065        8545         intermittently pleasing but mostly routine\n",
              "...         ...         ...                                                ...\n",
              "66287    222348       11855             A long-winded , predictable scenario .\n",
              "66288    222349       11855               A long-winded , predictable scenario\n",
              "66289    222350       11855                                    A long-winded ,\n",
              "66290    222351       11855                                      A long-winded\n",
              "66291    222352       11855                               predictable scenario\n",
              "\n",
              "[66292 rows x 3 columns]"
            ],
            "text/html": [
              "\n",
              "  <div id=\"df-38b8c324-5872-4bcd-bd3c-409c9ededf9b\">\n",
              "    <div class=\"colab-df-container\">\n",
              "      <div>\n",
              "<style scoped>\n",
              "    .dataframe tbody tr th:only-of-type {\n",
              "        vertical-align: middle;\n",
              "    }\n",
              "\n",
              "    .dataframe tbody tr th {\n",
              "        vertical-align: top;\n",
              "    }\n",
              "\n",
              "    .dataframe thead th {\n",
              "        text-align: right;\n",
              "    }\n",
              "</style>\n",
              "<table border=\"1\" class=\"dataframe\">\n",
              "  <thead>\n",
              "    <tr style=\"text-align: right;\">\n",
              "      <th></th>\n",
              "      <th>PhraseId</th>\n",
              "      <th>SentenceId</th>\n",
              "      <th>Phrase</th>\n",
              "    </tr>\n",
              "  </thead>\n",
              "  <tbody>\n",
              "    <tr>\n",
              "      <th>0</th>\n",
              "      <td>156061</td>\n",
              "      <td>8545</td>\n",
              "      <td>An intermittently pleasing but mostly routine ...</td>\n",
              "    </tr>\n",
              "    <tr>\n",
              "      <th>1</th>\n",
              "      <td>156062</td>\n",
              "      <td>8545</td>\n",
              "      <td>An intermittently pleasing but mostly routine ...</td>\n",
              "    </tr>\n",
              "    <tr>\n",
              "      <th>2</th>\n",
              "      <td>156063</td>\n",
              "      <td>8545</td>\n",
              "      <td>An</td>\n",
              "    </tr>\n",
              "    <tr>\n",
              "      <th>3</th>\n",
              "      <td>156064</td>\n",
              "      <td>8545</td>\n",
              "      <td>intermittently pleasing but mostly routine effort</td>\n",
              "    </tr>\n",
              "    <tr>\n",
              "      <th>4</th>\n",
              "      <td>156065</td>\n",
              "      <td>8545</td>\n",
              "      <td>intermittently pleasing but mostly routine</td>\n",
              "    </tr>\n",
              "    <tr>\n",
              "      <th>...</th>\n",
              "      <td>...</td>\n",
              "      <td>...</td>\n",
              "      <td>...</td>\n",
              "    </tr>\n",
              "    <tr>\n",
              "      <th>66287</th>\n",
              "      <td>222348</td>\n",
              "      <td>11855</td>\n",
              "      <td>A long-winded , predictable scenario .</td>\n",
              "    </tr>\n",
              "    <tr>\n",
              "      <th>66288</th>\n",
              "      <td>222349</td>\n",
              "      <td>11855</td>\n",
              "      <td>A long-winded , predictable scenario</td>\n",
              "    </tr>\n",
              "    <tr>\n",
              "      <th>66289</th>\n",
              "      <td>222350</td>\n",
              "      <td>11855</td>\n",
              "      <td>A long-winded ,</td>\n",
              "    </tr>\n",
              "    <tr>\n",
              "      <th>66290</th>\n",
              "      <td>222351</td>\n",
              "      <td>11855</td>\n",
              "      <td>A long-winded</td>\n",
              "    </tr>\n",
              "    <tr>\n",
              "      <th>66291</th>\n",
              "      <td>222352</td>\n",
              "      <td>11855</td>\n",
              "      <td>predictable scenario</td>\n",
              "    </tr>\n",
              "  </tbody>\n",
              "</table>\n",
              "<p>66292 rows × 3 columns</p>\n",
              "</div>\n",
              "      <button class=\"colab-df-convert\" onclick=\"convertToInteractive('df-38b8c324-5872-4bcd-bd3c-409c9ededf9b')\"\n",
              "              title=\"Convert this dataframe to an interactive table.\"\n",
              "              style=\"display:none;\">\n",
              "        \n",
              "  <svg xmlns=\"http://www.w3.org/2000/svg\" height=\"24px\"viewBox=\"0 0 24 24\"\n",
              "       width=\"24px\">\n",
              "    <path d=\"M0 0h24v24H0V0z\" fill=\"none\"/>\n",
              "    <path d=\"M18.56 5.44l.94 2.06.94-2.06 2.06-.94-2.06-.94-.94-2.06-.94 2.06-2.06.94zm-11 1L8.5 8.5l.94-2.06 2.06-.94-2.06-.94L8.5 2.5l-.94 2.06-2.06.94zm10 10l.94 2.06.94-2.06 2.06-.94-2.06-.94-.94-2.06-.94 2.06-2.06.94z\"/><path d=\"M17.41 7.96l-1.37-1.37c-.4-.4-.92-.59-1.43-.59-.52 0-1.04.2-1.43.59L10.3 9.45l-7.72 7.72c-.78.78-.78 2.05 0 2.83L4 21.41c.39.39.9.59 1.41.59.51 0 1.02-.2 1.41-.59l7.78-7.78 2.81-2.81c.8-.78.8-2.07 0-2.86zM5.41 20L4 18.59l7.72-7.72 1.47 1.35L5.41 20z\"/>\n",
              "  </svg>\n",
              "      </button>\n",
              "      \n",
              "  <style>\n",
              "    .colab-df-container {\n",
              "      display:flex;\n",
              "      flex-wrap:wrap;\n",
              "      gap: 12px;\n",
              "    }\n",
              "\n",
              "    .colab-df-convert {\n",
              "      background-color: #E8F0FE;\n",
              "      border: none;\n",
              "      border-radius: 50%;\n",
              "      cursor: pointer;\n",
              "      display: none;\n",
              "      fill: #1967D2;\n",
              "      height: 32px;\n",
              "      padding: 0 0 0 0;\n",
              "      width: 32px;\n",
              "    }\n",
              "\n",
              "    .colab-df-convert:hover {\n",
              "      background-color: #E2EBFA;\n",
              "      box-shadow: 0px 1px 2px rgba(60, 64, 67, 0.3), 0px 1px 3px 1px rgba(60, 64, 67, 0.15);\n",
              "      fill: #174EA6;\n",
              "    }\n",
              "\n",
              "    [theme=dark] .colab-df-convert {\n",
              "      background-color: #3B4455;\n",
              "      fill: #D2E3FC;\n",
              "    }\n",
              "\n",
              "    [theme=dark] .colab-df-convert:hover {\n",
              "      background-color: #434B5C;\n",
              "      box-shadow: 0px 1px 3px 1px rgba(0, 0, 0, 0.15);\n",
              "      filter: drop-shadow(0px 1px 2px rgba(0, 0, 0, 0.3));\n",
              "      fill: #FFFFFF;\n",
              "    }\n",
              "  </style>\n",
              "\n",
              "      <script>\n",
              "        const buttonEl =\n",
              "          document.querySelector('#df-38b8c324-5872-4bcd-bd3c-409c9ededf9b button.colab-df-convert');\n",
              "        buttonEl.style.display =\n",
              "          google.colab.kernel.accessAllowed ? 'block' : 'none';\n",
              "\n",
              "        async function convertToInteractive(key) {\n",
              "          const element = document.querySelector('#df-38b8c324-5872-4bcd-bd3c-409c9ededf9b');\n",
              "          const dataTable =\n",
              "            await google.colab.kernel.invokeFunction('convertToInteractive',\n",
              "                                                     [key], {});\n",
              "          if (!dataTable) return;\n",
              "\n",
              "          const docLinkHtml = 'Like what you see? Visit the ' +\n",
              "            '<a target=\"_blank\" href=https://colab.research.google.com/notebooks/data_table.ipynb>data table notebook</a>'\n",
              "            + ' to learn more about interactive tables.';\n",
              "          element.innerHTML = '';\n",
              "          dataTable['output_type'] = 'display_data';\n",
              "          await google.colab.output.renderOutput(dataTable, element);\n",
              "          const docLink = document.createElement('div');\n",
              "          docLink.innerHTML = docLinkHtml;\n",
              "          element.appendChild(docLink);\n",
              "        }\n",
              "      </script>\n",
              "    </div>\n",
              "  </div>\n",
              "  "
            ]
          },
          "metadata": {},
          "execution_count": 57
        }
      ]
    },
    {
      "cell_type": "code",
      "source": [
        "test_preds = model.predict(test_inputs)\n",
        "test_preds"
      ],
      "metadata": {
        "colab": {
          "base_uri": "https://localhost:8080/"
        },
        "id": "26V_FO82x6gu",
        "outputId": "705a3c67-53bc-4e27-c843-53599710fb95"
      },
      "execution_count": 140,
      "outputs": [
        {
          "output_type": "execute_result",
          "data": {
            "text/plain": [
              "66292"
            ]
          },
          "metadata": {},
          "execution_count": 140
        }
      ]
    },
    {
      "cell_type": "code",
      "source": [
        "sub_df"
      ],
      "metadata": {
        "colab": {
          "base_uri": "https://localhost:8080/",
          "height": 424
        },
        "id": "83XlWwQDx-e_",
        "outputId": "c23e0f83-4f50-4893-9f94-ee9f156dde9b"
      },
      "execution_count": 59,
      "outputs": [
        {
          "output_type": "execute_result",
          "data": {
            "text/plain": [
              "       PhraseId  Sentiment\n",
              "0        156061          2\n",
              "1        156062          2\n",
              "2        156063          2\n",
              "3        156064          2\n",
              "4        156065          2\n",
              "...         ...        ...\n",
              "66287    222348          2\n",
              "66288    222349          2\n",
              "66289    222350          2\n",
              "66290    222351          2\n",
              "66291    222352          2\n",
              "\n",
              "[66292 rows x 2 columns]"
            ],
            "text/html": [
              "\n",
              "  <div id=\"df-85e219e7-0b4c-48e6-9a57-d5259d450a92\">\n",
              "    <div class=\"colab-df-container\">\n",
              "      <div>\n",
              "<style scoped>\n",
              "    .dataframe tbody tr th:only-of-type {\n",
              "        vertical-align: middle;\n",
              "    }\n",
              "\n",
              "    .dataframe tbody tr th {\n",
              "        vertical-align: top;\n",
              "    }\n",
              "\n",
              "    .dataframe thead th {\n",
              "        text-align: right;\n",
              "    }\n",
              "</style>\n",
              "<table border=\"1\" class=\"dataframe\">\n",
              "  <thead>\n",
              "    <tr style=\"text-align: right;\">\n",
              "      <th></th>\n",
              "      <th>PhraseId</th>\n",
              "      <th>Sentiment</th>\n",
              "    </tr>\n",
              "  </thead>\n",
              "  <tbody>\n",
              "    <tr>\n",
              "      <th>0</th>\n",
              "      <td>156061</td>\n",
              "      <td>2</td>\n",
              "    </tr>\n",
              "    <tr>\n",
              "      <th>1</th>\n",
              "      <td>156062</td>\n",
              "      <td>2</td>\n",
              "    </tr>\n",
              "    <tr>\n",
              "      <th>2</th>\n",
              "      <td>156063</td>\n",
              "      <td>2</td>\n",
              "    </tr>\n",
              "    <tr>\n",
              "      <th>3</th>\n",
              "      <td>156064</td>\n",
              "      <td>2</td>\n",
              "    </tr>\n",
              "    <tr>\n",
              "      <th>4</th>\n",
              "      <td>156065</td>\n",
              "      <td>2</td>\n",
              "    </tr>\n",
              "    <tr>\n",
              "      <th>...</th>\n",
              "      <td>...</td>\n",
              "      <td>...</td>\n",
              "    </tr>\n",
              "    <tr>\n",
              "      <th>66287</th>\n",
              "      <td>222348</td>\n",
              "      <td>2</td>\n",
              "    </tr>\n",
              "    <tr>\n",
              "      <th>66288</th>\n",
              "      <td>222349</td>\n",
              "      <td>2</td>\n",
              "    </tr>\n",
              "    <tr>\n",
              "      <th>66289</th>\n",
              "      <td>222350</td>\n",
              "      <td>2</td>\n",
              "    </tr>\n",
              "    <tr>\n",
              "      <th>66290</th>\n",
              "      <td>222351</td>\n",
              "      <td>2</td>\n",
              "    </tr>\n",
              "    <tr>\n",
              "      <th>66291</th>\n",
              "      <td>222352</td>\n",
              "      <td>2</td>\n",
              "    </tr>\n",
              "  </tbody>\n",
              "</table>\n",
              "<p>66292 rows × 2 columns</p>\n",
              "</div>\n",
              "      <button class=\"colab-df-convert\" onclick=\"convertToInteractive('df-85e219e7-0b4c-48e6-9a57-d5259d450a92')\"\n",
              "              title=\"Convert this dataframe to an interactive table.\"\n",
              "              style=\"display:none;\">\n",
              "        \n",
              "  <svg xmlns=\"http://www.w3.org/2000/svg\" height=\"24px\"viewBox=\"0 0 24 24\"\n",
              "       width=\"24px\">\n",
              "    <path d=\"M0 0h24v24H0V0z\" fill=\"none\"/>\n",
              "    <path d=\"M18.56 5.44l.94 2.06.94-2.06 2.06-.94-2.06-.94-.94-2.06-.94 2.06-2.06.94zm-11 1L8.5 8.5l.94-2.06 2.06-.94-2.06-.94L8.5 2.5l-.94 2.06-2.06.94zm10 10l.94 2.06.94-2.06 2.06-.94-2.06-.94-.94-2.06-.94 2.06-2.06.94z\"/><path d=\"M17.41 7.96l-1.37-1.37c-.4-.4-.92-.59-1.43-.59-.52 0-1.04.2-1.43.59L10.3 9.45l-7.72 7.72c-.78.78-.78 2.05 0 2.83L4 21.41c.39.39.9.59 1.41.59.51 0 1.02-.2 1.41-.59l7.78-7.78 2.81-2.81c.8-.78.8-2.07 0-2.86zM5.41 20L4 18.59l7.72-7.72 1.47 1.35L5.41 20z\"/>\n",
              "  </svg>\n",
              "      </button>\n",
              "      \n",
              "  <style>\n",
              "    .colab-df-container {\n",
              "      display:flex;\n",
              "      flex-wrap:wrap;\n",
              "      gap: 12px;\n",
              "    }\n",
              "\n",
              "    .colab-df-convert {\n",
              "      background-color: #E8F0FE;\n",
              "      border: none;\n",
              "      border-radius: 50%;\n",
              "      cursor: pointer;\n",
              "      display: none;\n",
              "      fill: #1967D2;\n",
              "      height: 32px;\n",
              "      padding: 0 0 0 0;\n",
              "      width: 32px;\n",
              "    }\n",
              "\n",
              "    .colab-df-convert:hover {\n",
              "      background-color: #E2EBFA;\n",
              "      box-shadow: 0px 1px 2px rgba(60, 64, 67, 0.3), 0px 1px 3px 1px rgba(60, 64, 67, 0.15);\n",
              "      fill: #174EA6;\n",
              "    }\n",
              "\n",
              "    [theme=dark] .colab-df-convert {\n",
              "      background-color: #3B4455;\n",
              "      fill: #D2E3FC;\n",
              "    }\n",
              "\n",
              "    [theme=dark] .colab-df-convert:hover {\n",
              "      background-color: #434B5C;\n",
              "      box-shadow: 0px 1px 3px 1px rgba(0, 0, 0, 0.15);\n",
              "      filter: drop-shadow(0px 1px 2px rgba(0, 0, 0, 0.3));\n",
              "      fill: #FFFFFF;\n",
              "    }\n",
              "  </style>\n",
              "\n",
              "      <script>\n",
              "        const buttonEl =\n",
              "          document.querySelector('#df-85e219e7-0b4c-48e6-9a57-d5259d450a92 button.colab-df-convert');\n",
              "        buttonEl.style.display =\n",
              "          google.colab.kernel.accessAllowed ? 'block' : 'none';\n",
              "\n",
              "        async function convertToInteractive(key) {\n",
              "          const element = document.querySelector('#df-85e219e7-0b4c-48e6-9a57-d5259d450a92');\n",
              "          const dataTable =\n",
              "            await google.colab.kernel.invokeFunction('convertToInteractive',\n",
              "                                                     [key], {});\n",
              "          if (!dataTable) return;\n",
              "\n",
              "          const docLinkHtml = 'Like what you see? Visit the ' +\n",
              "            '<a target=\"_blank\" href=https://colab.research.google.com/notebooks/data_table.ipynb>data table notebook</a>'\n",
              "            + ' to learn more about interactive tables.';\n",
              "          element.innerHTML = '';\n",
              "          dataTable['output_type'] = 'display_data';\n",
              "          await google.colab.output.renderOutput(dataTable, element);\n",
              "          const docLink = document.createElement('div');\n",
              "          docLink.innerHTML = docLinkHtml;\n",
              "          element.appendChild(docLink);\n",
              "        }\n",
              "      </script>\n",
              "    </div>\n",
              "  </div>\n",
              "  "
            ]
          },
          "metadata": {},
          "execution_count": 59
        }
      ]
    },
    {
      "cell_type": "code",
      "source": [
        "sub_df.Sentiment = test_preds"
      ],
      "metadata": {
        "id": "vD9TWwYMyBw2"
      },
      "execution_count": 60,
      "outputs": []
    },
    {
      "cell_type": "code",
      "source": [
        "sub_df"
      ],
      "metadata": {
        "colab": {
          "base_uri": "https://localhost:8080/",
          "height": 424
        },
        "id": "4qziXXp8yEDB",
        "outputId": "9b387e5e-4c08-479e-bf78-b84eeb8f7c81"
      },
      "execution_count": 61,
      "outputs": [
        {
          "output_type": "execute_result",
          "data": {
            "text/plain": [
              "       PhraseId  Sentiment\n",
              "0        156061          3\n",
              "1        156062          3\n",
              "2        156063          2\n",
              "3        156064          3\n",
              "4        156065          3\n",
              "...         ...        ...\n",
              "66287    222348          1\n",
              "66288    222349          1\n",
              "66289    222350          2\n",
              "66290    222351          2\n",
              "66291    222352          1\n",
              "\n",
              "[66292 rows x 2 columns]"
            ],
            "text/html": [
              "\n",
              "  <div id=\"df-ba1d4d8b-caad-434d-b7b2-7bdc6afb3062\">\n",
              "    <div class=\"colab-df-container\">\n",
              "      <div>\n",
              "<style scoped>\n",
              "    .dataframe tbody tr th:only-of-type {\n",
              "        vertical-align: middle;\n",
              "    }\n",
              "\n",
              "    .dataframe tbody tr th {\n",
              "        vertical-align: top;\n",
              "    }\n",
              "\n",
              "    .dataframe thead th {\n",
              "        text-align: right;\n",
              "    }\n",
              "</style>\n",
              "<table border=\"1\" class=\"dataframe\">\n",
              "  <thead>\n",
              "    <tr style=\"text-align: right;\">\n",
              "      <th></th>\n",
              "      <th>PhraseId</th>\n",
              "      <th>Sentiment</th>\n",
              "    </tr>\n",
              "  </thead>\n",
              "  <tbody>\n",
              "    <tr>\n",
              "      <th>0</th>\n",
              "      <td>156061</td>\n",
              "      <td>3</td>\n",
              "    </tr>\n",
              "    <tr>\n",
              "      <th>1</th>\n",
              "      <td>156062</td>\n",
              "      <td>3</td>\n",
              "    </tr>\n",
              "    <tr>\n",
              "      <th>2</th>\n",
              "      <td>156063</td>\n",
              "      <td>2</td>\n",
              "    </tr>\n",
              "    <tr>\n",
              "      <th>3</th>\n",
              "      <td>156064</td>\n",
              "      <td>3</td>\n",
              "    </tr>\n",
              "    <tr>\n",
              "      <th>4</th>\n",
              "      <td>156065</td>\n",
              "      <td>3</td>\n",
              "    </tr>\n",
              "    <tr>\n",
              "      <th>...</th>\n",
              "      <td>...</td>\n",
              "      <td>...</td>\n",
              "    </tr>\n",
              "    <tr>\n",
              "      <th>66287</th>\n",
              "      <td>222348</td>\n",
              "      <td>1</td>\n",
              "    </tr>\n",
              "    <tr>\n",
              "      <th>66288</th>\n",
              "      <td>222349</td>\n",
              "      <td>1</td>\n",
              "    </tr>\n",
              "    <tr>\n",
              "      <th>66289</th>\n",
              "      <td>222350</td>\n",
              "      <td>2</td>\n",
              "    </tr>\n",
              "    <tr>\n",
              "      <th>66290</th>\n",
              "      <td>222351</td>\n",
              "      <td>2</td>\n",
              "    </tr>\n",
              "    <tr>\n",
              "      <th>66291</th>\n",
              "      <td>222352</td>\n",
              "      <td>1</td>\n",
              "    </tr>\n",
              "  </tbody>\n",
              "</table>\n",
              "<p>66292 rows × 2 columns</p>\n",
              "</div>\n",
              "      <button class=\"colab-df-convert\" onclick=\"convertToInteractive('df-ba1d4d8b-caad-434d-b7b2-7bdc6afb3062')\"\n",
              "              title=\"Convert this dataframe to an interactive table.\"\n",
              "              style=\"display:none;\">\n",
              "        \n",
              "  <svg xmlns=\"http://www.w3.org/2000/svg\" height=\"24px\"viewBox=\"0 0 24 24\"\n",
              "       width=\"24px\">\n",
              "    <path d=\"M0 0h24v24H0V0z\" fill=\"none\"/>\n",
              "    <path d=\"M18.56 5.44l.94 2.06.94-2.06 2.06-.94-2.06-.94-.94-2.06-.94 2.06-2.06.94zm-11 1L8.5 8.5l.94-2.06 2.06-.94-2.06-.94L8.5 2.5l-.94 2.06-2.06.94zm10 10l.94 2.06.94-2.06 2.06-.94-2.06-.94-.94-2.06-.94 2.06-2.06.94z\"/><path d=\"M17.41 7.96l-1.37-1.37c-.4-.4-.92-.59-1.43-.59-.52 0-1.04.2-1.43.59L10.3 9.45l-7.72 7.72c-.78.78-.78 2.05 0 2.83L4 21.41c.39.39.9.59 1.41.59.51 0 1.02-.2 1.41-.59l7.78-7.78 2.81-2.81c.8-.78.8-2.07 0-2.86zM5.41 20L4 18.59l7.72-7.72 1.47 1.35L5.41 20z\"/>\n",
              "  </svg>\n",
              "      </button>\n",
              "      \n",
              "  <style>\n",
              "    .colab-df-container {\n",
              "      display:flex;\n",
              "      flex-wrap:wrap;\n",
              "      gap: 12px;\n",
              "    }\n",
              "\n",
              "    .colab-df-convert {\n",
              "      background-color: #E8F0FE;\n",
              "      border: none;\n",
              "      border-radius: 50%;\n",
              "      cursor: pointer;\n",
              "      display: none;\n",
              "      fill: #1967D2;\n",
              "      height: 32px;\n",
              "      padding: 0 0 0 0;\n",
              "      width: 32px;\n",
              "    }\n",
              "\n",
              "    .colab-df-convert:hover {\n",
              "      background-color: #E2EBFA;\n",
              "      box-shadow: 0px 1px 2px rgba(60, 64, 67, 0.3), 0px 1px 3px 1px rgba(60, 64, 67, 0.15);\n",
              "      fill: #174EA6;\n",
              "    }\n",
              "\n",
              "    [theme=dark] .colab-df-convert {\n",
              "      background-color: #3B4455;\n",
              "      fill: #D2E3FC;\n",
              "    }\n",
              "\n",
              "    [theme=dark] .colab-df-convert:hover {\n",
              "      background-color: #434B5C;\n",
              "      box-shadow: 0px 1px 3px 1px rgba(0, 0, 0, 0.15);\n",
              "      filter: drop-shadow(0px 1px 2px rgba(0, 0, 0, 0.3));\n",
              "      fill: #FFFFFF;\n",
              "    }\n",
              "  </style>\n",
              "\n",
              "      <script>\n",
              "        const buttonEl =\n",
              "          document.querySelector('#df-ba1d4d8b-caad-434d-b7b2-7bdc6afb3062 button.colab-df-convert');\n",
              "        buttonEl.style.display =\n",
              "          google.colab.kernel.accessAllowed ? 'block' : 'none';\n",
              "\n",
              "        async function convertToInteractive(key) {\n",
              "          const element = document.querySelector('#df-ba1d4d8b-caad-434d-b7b2-7bdc6afb3062');\n",
              "          const dataTable =\n",
              "            await google.colab.kernel.invokeFunction('convertToInteractive',\n",
              "                                                     [key], {});\n",
              "          if (!dataTable) return;\n",
              "\n",
              "          const docLinkHtml = 'Like what you see? Visit the ' +\n",
              "            '<a target=\"_blank\" href=https://colab.research.google.com/notebooks/data_table.ipynb>data table notebook</a>'\n",
              "            + ' to learn more about interactive tables.';\n",
              "          element.innerHTML = '';\n",
              "          dataTable['output_type'] = 'display_data';\n",
              "          await google.colab.output.renderOutput(dataTable, element);\n",
              "          const docLink = document.createElement('div');\n",
              "          docLink.innerHTML = docLinkHtml;\n",
              "          element.appendChild(docLink);\n",
              "        }\n",
              "      </script>\n",
              "    </div>\n",
              "  </div>\n",
              "  "
            ]
          },
          "metadata": {},
          "execution_count": 61
        }
      ]
    },
    {
      "cell_type": "code",
      "source": [
        "sub_df.to_csv('first_submission.csv',index = None)"
      ],
      "metadata": {
        "id": "BRFjwglkyFIQ"
      },
      "execution_count": 62,
      "outputs": []
    },
    {
      "cell_type": "code",
      "source": [
        "!head first_submission.csv"
      ],
      "metadata": {
        "colab": {
          "base_uri": "https://localhost:8080/"
        },
        "id": "1wNXCfI4yL0s",
        "outputId": "f0294baf-374a-4887-c84e-bcabc7ab9a17"
      },
      "execution_count": 63,
      "outputs": [
        {
          "output_type": "stream",
          "name": "stdout",
          "text": [
            "PhraseId,Sentiment\n",
            "156061,3\n",
            "156062,3\n",
            "156063,2\n",
            "156064,3\n",
            "156065,3\n",
            "156066,3\n",
            "156067,3\n",
            "156068,2\n",
            "156069,3\n"
          ]
        }
      ]
    },
    {
      "cell_type": "markdown",
      "source": [
        "# Testing out with Decision Trees"
      ],
      "metadata": {
        "id": "0DwCs09v1HdF"
      }
    },
    {
      "cell_type": "code",
      "source": [
        "from sklearn.tree import DecisionTreeClassifier\n",
        "model_1 = DecisionTreeClassifier()"
      ],
      "metadata": {
        "id": "oDg4Xtmh5xEJ"
      },
      "execution_count": 64,
      "outputs": []
    },
    {
      "cell_type": "code",
      "source": [
        "model_1.fit(train_inputs,train_targets)"
      ],
      "metadata": {
        "colab": {
          "base_uri": "https://localhost:8080/"
        },
        "id": "Dq2mCLBc5_uz",
        "outputId": "f5bb7cf9-9976-4bd5-d35b-16f57edf8542"
      },
      "execution_count": 65,
      "outputs": [
        {
          "output_type": "execute_result",
          "data": {
            "text/plain": [
              "DecisionTreeClassifier()"
            ]
          },
          "metadata": {},
          "execution_count": 65
        }
      ]
    },
    {
      "cell_type": "code",
      "source": [
        "train_preds = model_1.predict(train_inputs)\n",
        "accuracy_score(train_preds,train_targets)"
      ],
      "metadata": {
        "colab": {
          "base_uri": "https://localhost:8080/"
        },
        "id": "nEcil6cW7g6l",
        "outputId": "bdf45b22-c742-4c29-f7e0-47c25f3fecc0"
      },
      "execution_count": 66,
      "outputs": [
        {
          "output_type": "execute_result",
          "data": {
            "text/plain": [
              "0.79861"
            ]
          },
          "metadata": {},
          "execution_count": 66
        }
      ]
    },
    {
      "cell_type": "code",
      "source": [
        "val_preds = model_1.predict(val_inputs)\n",
        "accuracy_score(val_preds,val_targets)"
      ],
      "metadata": {
        "colab": {
          "base_uri": "https://localhost:8080/"
        },
        "id": "PWUpEcvl7o9K",
        "outputId": "b6da5892-a2ae-421b-d792-d8ba90eae2f3"
      },
      "execution_count": 67,
      "outputs": [
        {
          "output_type": "execute_result",
          "data": {
            "text/plain": [
              "0.5316446664288262"
            ]
          },
          "metadata": {},
          "execution_count": 67
        }
      ]
    },
    {
      "cell_type": "code",
      "source": [
        "test_preds_1 = model_1.predict(test_inputs)"
      ],
      "metadata": {
        "id": "ezeWqIWFeXqe"
      },
      "execution_count": 68,
      "outputs": []
    },
    {
      "cell_type": "code",
      "source": [
        "model_2 = DecisionTreeClassifier(class_weight='balanced',splitter='best',criterion='entropy').fit(train_inputs,train_targets)"
      ],
      "metadata": {
        "id": "EFaLoxOv7yev"
      },
      "execution_count": 69,
      "outputs": []
    },
    {
      "cell_type": "code",
      "source": [
        "accuracy_score(model_2.predict(train_inputs),train_targets)"
      ],
      "metadata": {
        "colab": {
          "base_uri": "https://localhost:8080/"
        },
        "id": "zUb64vh78ARh",
        "outputId": "76fb375b-0be4-4bfa-dc3b-5147922da2c5"
      },
      "execution_count": 70,
      "outputs": [
        {
          "output_type": "execute_result",
          "data": {
            "text/plain": [
              "0.7555"
            ]
          },
          "metadata": {},
          "execution_count": 70
        }
      ]
    },
    {
      "cell_type": "code",
      "source": [
        "accuracy_score(model_2.predict(val_inputs),val_targets)"
      ],
      "metadata": {
        "colab": {
          "base_uri": "https://localhost:8080/"
        },
        "id": "HX0lZjIIfK6W",
        "outputId": "3750351a-e3ea-4fe4-8d22-848365621686"
      },
      "execution_count": 71,
      "outputs": [
        {
          "output_type": "execute_result",
          "data": {
            "text/plain": [
              "0.4656082768462362"
            ]
          },
          "metadata": {},
          "execution_count": 71
        }
      ]
    },
    {
      "cell_type": "code",
      "source": [
        "from scipy.stats import randint\n",
        "from sklearn.model_selection import RandomizedSearchCV\n",
        "\n",
        "param_dist = {\n",
        "              \"criterion\": [\"gini\", \"entropy\"],\n",
        "              \"class_weight\":[None,\"balanced\"],\n",
        "              \"splitter\":[\"best\",\"random\"]\n",
        "              }\n",
        "model_3 = DecisionTreeClassifier()\n",
        "model_cv = RandomizedSearchCV(model_3,param_dist,cv=5)\n",
        "model_cv.fit(train_inputs,train_targets)"
      ],
      "metadata": {
        "colab": {
          "base_uri": "https://localhost:8080/"
        },
        "id": "AlpNjcc18ExX",
        "outputId": "1e831b25-cf34-40f0-8c61-bee9ac448799"
      },
      "execution_count": 72,
      "outputs": [
        {
          "output_type": "stream",
          "name": "stderr",
          "text": [
            "/usr/local/lib/python3.8/dist-packages/sklearn/model_selection/_search.py:292: UserWarning: The total space of parameters 2 is smaller than n_iter=10. Running 2 iterations. For exhaustive searches, use GridSearchCV.\n",
            "  warnings.warn(\n"
          ]
        },
        {
          "output_type": "execute_result",
          "data": {
            "text/plain": [
              "RandomizedSearchCV(cv=5, estimator=DecisionTreeClassifier(),\n",
              "                   param_distributions={'class_weight': [None, 'balanced']})"
            ]
          },
          "metadata": {},
          "execution_count": 72
        }
      ]
    },
    {
      "cell_type": "code",
      "source": [
        "model_cv.best_params_"
      ],
      "metadata": {
        "id": "A3Rsh0ZY_YC7",
        "colab": {
          "base_uri": "https://localhost:8080/"
        },
        "outputId": "53eb287d-087a-4d13-bc57-f3d2d016299a"
      },
      "execution_count": 73,
      "outputs": [
        {
          "output_type": "execute_result",
          "data": {
            "text/plain": [
              "{'class_weight': None}"
            ]
          },
          "metadata": {},
          "execution_count": 73
        }
      ]
    },
    {
      "cell_type": "code",
      "source": [
        "new_model = DecisionTreeClassifier(splitter= 'random',class_weight=None,criterion='gini').fit(train_inputs,train_targets)"
      ],
      "metadata": {
        "id": "DX-aXmEx_jSt"
      },
      "execution_count": 74,
      "outputs": []
    },
    {
      "cell_type": "code",
      "source": [
        "accuracy_score(new_model.predict(train_inputs),train_targets)"
      ],
      "metadata": {
        "colab": {
          "base_uri": "https://localhost:8080/"
        },
        "id": "wmETVmJI_v6F",
        "outputId": "160c5ca2-2b2b-4409-90aa-c4381c2ee541"
      },
      "execution_count": 75,
      "outputs": [
        {
          "output_type": "execute_result",
          "data": {
            "text/plain": [
              "0.79861"
            ]
          },
          "metadata": {},
          "execution_count": 75
        }
      ]
    },
    {
      "cell_type": "code",
      "source": [
        "accuracy_score(new_model.predict(val_inputs),val_targets)"
      ],
      "metadata": {
        "id": "ztjAKeto__Le",
        "colab": {
          "base_uri": "https://localhost:8080/"
        },
        "outputId": "0f8e69ca-5c6e-4d39-e154-7dd70bc60331"
      },
      "execution_count": 76,
      "outputs": [
        {
          "output_type": "execute_result",
          "data": {
            "text/plain": [
              "0.5406707099536211"
            ]
          },
          "metadata": {},
          "execution_count": 76
        }
      ]
    },
    {
      "cell_type": "code",
      "source": [
        "new_test_preds = new_model.predict(test_inputs)\n",
        "new_test_preds"
      ],
      "metadata": {
        "colab": {
          "base_uri": "https://localhost:8080/"
        },
        "id": "f8GfmLJYgqn4",
        "outputId": "088539d0-beed-4b44-ad73-ff20986b98bb"
      },
      "execution_count": 77,
      "outputs": [
        {
          "output_type": "execute_result",
          "data": {
            "text/plain": [
              "array([2, 2, 2, ..., 2, 2, 1])"
            ]
          },
          "metadata": {},
          "execution_count": 77
        }
      ]
    },
    {
      "cell_type": "code",
      "source": [
        "sub_df.Sentiment = new_test_preds\n",
        "sub_df"
      ],
      "metadata": {
        "colab": {
          "base_uri": "https://localhost:8080/",
          "height": 424
        },
        "id": "vmWG8VQihmgz",
        "outputId": "4c6d635a-4ee3-4d50-c53f-e2123b5d8964"
      },
      "execution_count": 78,
      "outputs": [
        {
          "output_type": "execute_result",
          "data": {
            "text/plain": [
              "       PhraseId  Sentiment\n",
              "0        156061          2\n",
              "1        156062          2\n",
              "2        156063          2\n",
              "3        156064          2\n",
              "4        156065          2\n",
              "...         ...        ...\n",
              "66287    222348          1\n",
              "66288    222349          1\n",
              "66289    222350          2\n",
              "66290    222351          2\n",
              "66291    222352          1\n",
              "\n",
              "[66292 rows x 2 columns]"
            ],
            "text/html": [
              "\n",
              "  <div id=\"df-a0cdbcf2-76a0-44bd-8e0f-523e72ba9170\">\n",
              "    <div class=\"colab-df-container\">\n",
              "      <div>\n",
              "<style scoped>\n",
              "    .dataframe tbody tr th:only-of-type {\n",
              "        vertical-align: middle;\n",
              "    }\n",
              "\n",
              "    .dataframe tbody tr th {\n",
              "        vertical-align: top;\n",
              "    }\n",
              "\n",
              "    .dataframe thead th {\n",
              "        text-align: right;\n",
              "    }\n",
              "</style>\n",
              "<table border=\"1\" class=\"dataframe\">\n",
              "  <thead>\n",
              "    <tr style=\"text-align: right;\">\n",
              "      <th></th>\n",
              "      <th>PhraseId</th>\n",
              "      <th>Sentiment</th>\n",
              "    </tr>\n",
              "  </thead>\n",
              "  <tbody>\n",
              "    <tr>\n",
              "      <th>0</th>\n",
              "      <td>156061</td>\n",
              "      <td>2</td>\n",
              "    </tr>\n",
              "    <tr>\n",
              "      <th>1</th>\n",
              "      <td>156062</td>\n",
              "      <td>2</td>\n",
              "    </tr>\n",
              "    <tr>\n",
              "      <th>2</th>\n",
              "      <td>156063</td>\n",
              "      <td>2</td>\n",
              "    </tr>\n",
              "    <tr>\n",
              "      <th>3</th>\n",
              "      <td>156064</td>\n",
              "      <td>2</td>\n",
              "    </tr>\n",
              "    <tr>\n",
              "      <th>4</th>\n",
              "      <td>156065</td>\n",
              "      <td>2</td>\n",
              "    </tr>\n",
              "    <tr>\n",
              "      <th>...</th>\n",
              "      <td>...</td>\n",
              "      <td>...</td>\n",
              "    </tr>\n",
              "    <tr>\n",
              "      <th>66287</th>\n",
              "      <td>222348</td>\n",
              "      <td>1</td>\n",
              "    </tr>\n",
              "    <tr>\n",
              "      <th>66288</th>\n",
              "      <td>222349</td>\n",
              "      <td>1</td>\n",
              "    </tr>\n",
              "    <tr>\n",
              "      <th>66289</th>\n",
              "      <td>222350</td>\n",
              "      <td>2</td>\n",
              "    </tr>\n",
              "    <tr>\n",
              "      <th>66290</th>\n",
              "      <td>222351</td>\n",
              "      <td>2</td>\n",
              "    </tr>\n",
              "    <tr>\n",
              "      <th>66291</th>\n",
              "      <td>222352</td>\n",
              "      <td>1</td>\n",
              "    </tr>\n",
              "  </tbody>\n",
              "</table>\n",
              "<p>66292 rows × 2 columns</p>\n",
              "</div>\n",
              "      <button class=\"colab-df-convert\" onclick=\"convertToInteractive('df-a0cdbcf2-76a0-44bd-8e0f-523e72ba9170')\"\n",
              "              title=\"Convert this dataframe to an interactive table.\"\n",
              "              style=\"display:none;\">\n",
              "        \n",
              "  <svg xmlns=\"http://www.w3.org/2000/svg\" height=\"24px\"viewBox=\"0 0 24 24\"\n",
              "       width=\"24px\">\n",
              "    <path d=\"M0 0h24v24H0V0z\" fill=\"none\"/>\n",
              "    <path d=\"M18.56 5.44l.94 2.06.94-2.06 2.06-.94-2.06-.94-.94-2.06-.94 2.06-2.06.94zm-11 1L8.5 8.5l.94-2.06 2.06-.94-2.06-.94L8.5 2.5l-.94 2.06-2.06.94zm10 10l.94 2.06.94-2.06 2.06-.94-2.06-.94-.94-2.06-.94 2.06-2.06.94z\"/><path d=\"M17.41 7.96l-1.37-1.37c-.4-.4-.92-.59-1.43-.59-.52 0-1.04.2-1.43.59L10.3 9.45l-7.72 7.72c-.78.78-.78 2.05 0 2.83L4 21.41c.39.39.9.59 1.41.59.51 0 1.02-.2 1.41-.59l7.78-7.78 2.81-2.81c.8-.78.8-2.07 0-2.86zM5.41 20L4 18.59l7.72-7.72 1.47 1.35L5.41 20z\"/>\n",
              "  </svg>\n",
              "      </button>\n",
              "      \n",
              "  <style>\n",
              "    .colab-df-container {\n",
              "      display:flex;\n",
              "      flex-wrap:wrap;\n",
              "      gap: 12px;\n",
              "    }\n",
              "\n",
              "    .colab-df-convert {\n",
              "      background-color: #E8F0FE;\n",
              "      border: none;\n",
              "      border-radius: 50%;\n",
              "      cursor: pointer;\n",
              "      display: none;\n",
              "      fill: #1967D2;\n",
              "      height: 32px;\n",
              "      padding: 0 0 0 0;\n",
              "      width: 32px;\n",
              "    }\n",
              "\n",
              "    .colab-df-convert:hover {\n",
              "      background-color: #E2EBFA;\n",
              "      box-shadow: 0px 1px 2px rgba(60, 64, 67, 0.3), 0px 1px 3px 1px rgba(60, 64, 67, 0.15);\n",
              "      fill: #174EA6;\n",
              "    }\n",
              "\n",
              "    [theme=dark] .colab-df-convert {\n",
              "      background-color: #3B4455;\n",
              "      fill: #D2E3FC;\n",
              "    }\n",
              "\n",
              "    [theme=dark] .colab-df-convert:hover {\n",
              "      background-color: #434B5C;\n",
              "      box-shadow: 0px 1px 3px 1px rgba(0, 0, 0, 0.15);\n",
              "      filter: drop-shadow(0px 1px 2px rgba(0, 0, 0, 0.3));\n",
              "      fill: #FFFFFF;\n",
              "    }\n",
              "  </style>\n",
              "\n",
              "      <script>\n",
              "        const buttonEl =\n",
              "          document.querySelector('#df-a0cdbcf2-76a0-44bd-8e0f-523e72ba9170 button.colab-df-convert');\n",
              "        buttonEl.style.display =\n",
              "          google.colab.kernel.accessAllowed ? 'block' : 'none';\n",
              "\n",
              "        async function convertToInteractive(key) {\n",
              "          const element = document.querySelector('#df-a0cdbcf2-76a0-44bd-8e0f-523e72ba9170');\n",
              "          const dataTable =\n",
              "            await google.colab.kernel.invokeFunction('convertToInteractive',\n",
              "                                                     [key], {});\n",
              "          if (!dataTable) return;\n",
              "\n",
              "          const docLinkHtml = 'Like what you see? Visit the ' +\n",
              "            '<a target=\"_blank\" href=https://colab.research.google.com/notebooks/data_table.ipynb>data table notebook</a>'\n",
              "            + ' to learn more about interactive tables.';\n",
              "          element.innerHTML = '';\n",
              "          dataTable['output_type'] = 'display_data';\n",
              "          await google.colab.output.renderOutput(dataTable, element);\n",
              "          const docLink = document.createElement('div');\n",
              "          docLink.innerHTML = docLinkHtml;\n",
              "          element.appendChild(docLink);\n",
              "        }\n",
              "      </script>\n",
              "    </div>\n",
              "  </div>\n",
              "  "
            ]
          },
          "metadata": {},
          "execution_count": 78
        }
      ]
    },
    {
      "cell_type": "code",
      "source": [
        "sub_df.to_csv('second_submission.csv',index = None)\n",
        "!head first_submission.csv"
      ],
      "metadata": {
        "colab": {
          "base_uri": "https://localhost:8080/"
        },
        "id": "hJmVO9oNhu1Y",
        "outputId": "cd0f2630-8717-4362-e908-7b997f5deebb"
      },
      "execution_count": 79,
      "outputs": [
        {
          "output_type": "stream",
          "name": "stdout",
          "text": [
            "PhraseId,Sentiment\n",
            "156061,3\n",
            "156062,3\n",
            "156063,2\n",
            "156064,3\n",
            "156065,3\n",
            "156066,3\n",
            "156067,3\n",
            "156068,2\n",
            "156069,3\n"
          ]
        }
      ]
    },
    {
      "cell_type": "markdown",
      "source": [
        "# Gradient Boosting"
      ],
      "metadata": {
        "id": "6cI5HAlJiW3-"
      }
    },
    {
      "cell_type": "code",
      "source": [
        "from sklearn.ensemble import GradientBoostingClassifier\n",
        "model_3 = GradientBoostingClassifier()"
      ],
      "metadata": {
        "id": "8_KR1yekh1UJ"
      },
      "execution_count": 80,
      "outputs": []
    },
    {
      "cell_type": "code",
      "source": [
        "%%time\n",
        "model_3.fit(train_inputs,train_targets)"
      ],
      "metadata": {
        "id": "Fx82J8s2kDXf",
        "colab": {
          "base_uri": "https://localhost:8080/"
        },
        "outputId": "7e73219c-54e2-41d2-d0dc-447fff447461"
      },
      "execution_count": 81,
      "outputs": [
        {
          "output_type": "stream",
          "name": "stdout",
          "text": [
            "CPU times: user 1min 19s, sys: 671 ms, total: 1min 20s\n",
            "Wall time: 1min 20s\n"
          ]
        },
        {
          "output_type": "execute_result",
          "data": {
            "text/plain": [
              "GradientBoostingClassifier()"
            ]
          },
          "metadata": {},
          "execution_count": 81
        }
      ]
    },
    {
      "cell_type": "code",
      "source": [
        "accuracy_score(model_3.predict(train_inputs),train_targets)"
      ],
      "metadata": {
        "colab": {
          "base_uri": "https://localhost:8080/"
        },
        "id": "e36YIkpbnpMu",
        "outputId": "557cb1e3-46d2-42f4-ea1f-993ac6bf3ab9"
      },
      "execution_count": 82,
      "outputs": [
        {
          "output_type": "execute_result",
          "data": {
            "text/plain": [
              "0.56173"
            ]
          },
          "metadata": {},
          "execution_count": 82
        }
      ]
    },
    {
      "cell_type": "code",
      "source": [
        "accuracy_score(model_3.predict(val_inputs),val_targets)"
      ],
      "metadata": {
        "colab": {
          "base_uri": "https://localhost:8080/"
        },
        "id": "19v303WtoOoV",
        "outputId": "aff0938e-e9f3-4b75-89cb-30b96ee58d75"
      },
      "execution_count": 83,
      "outputs": [
        {
          "output_type": "execute_result",
          "data": {
            "text/plain": [
              "0.5207099536211203"
            ]
          },
          "metadata": {},
          "execution_count": 83
        }
      ]
    },
    {
      "cell_type": "code",
      "source": [
        "from sklearn.metrics import classification_report\n",
        "print(classification_report(val_targets,model_3.predict(val_inputs)))"
      ],
      "metadata": {
        "colab": {
          "base_uri": "https://localhost:8080/"
        },
        "id": "pGST0qYJoSYJ",
        "outputId": "d6661e90-e091-458e-f104-583c888aabb5"
      },
      "execution_count": 84,
      "outputs": [
        {
          "output_type": "stream",
          "name": "stdout",
          "text": [
            "              precision    recall  f1-score   support\n",
            "\n",
            "           0       0.42      0.06      0.11      2619\n",
            "           1       0.48      0.07      0.13     10342\n",
            "           2       0.53      0.97      0.68     27799\n",
            "           3       0.46      0.09      0.15     11835\n",
            "           4       0.51      0.07      0.12      3465\n",
            "\n",
            "    accuracy                           0.52     56060\n",
            "   macro avg       0.48      0.25      0.24     56060\n",
            "weighted avg       0.50      0.52      0.41     56060\n",
            "\n"
          ]
        }
      ]
    },
    {
      "cell_type": "code",
      "source": [
        "from sklearn.datasets import make_hastie_10_2\n",
        "from scipy.stats import loguniform"
      ],
      "metadata": {
        "id": "8roWxGTcrsxR"
      },
      "execution_count": 85,
      "outputs": []
    },
    {
      "cell_type": "code",
      "source": [
        "param_distributions = {\n",
        "    \"learning_rate\": loguniform(0.01, 1),\n",
        "    \"max_depth\":[1,3,5,7,9],\n",
        "    \"n_estimators\":[5,50,250,500],\n",
        "\n",
        "}\n",
        "search_cv = RandomizedSearchCV(\n",
        "    GradientBoostingClassifier(), param_distributions=param_distributions,\n",
        "    scoring=\"neg_mean_absolute_error\", n_iter=20, random_state=0, n_jobs=2\n",
        ")\n",
        "search_cv.fit(train_inputs, train_targets)"
      ],
      "metadata": {
        "colab": {
          "base_uri": "https://localhost:8080/"
        },
        "id": "B7MrGIFBpIk5",
        "outputId": "245f1d6e-c012-45e1-b12d-c095ebddb229"
      },
      "execution_count": null,
      "outputs": [
        {
          "output_type": "execute_result",
          "data": {
            "text/plain": [
              "RandomizedSearchCV(estimator=GradientBoostingClassifier(), n_iter=20, n_jobs=2,\n",
              "                   param_distributions={'learning_rate': <scipy.stats._distn_infrastructure.rv_frozen object at 0x7f7215b30340>},\n",
              "                   random_state=0, scoring='neg_mean_absolute_error')"
            ]
          },
          "metadata": {},
          "execution_count": 123
        }
      ]
    },
    {
      "cell_type": "code",
      "source": [
        "model_4 = GradientBoostingClassifier(learning_rate=0.556,max_depth=9,n_estimators=150).fit(train_inputs,train_targets)"
      ],
      "metadata": {
        "id": "M5hGvcVnpRv4"
      },
      "execution_count": 128,
      "outputs": []
    },
    {
      "cell_type": "code",
      "source": [
        "accuracy_score(model_4.predict(train_inputs),train_targets)"
      ],
      "metadata": {
        "colab": {
          "base_uri": "https://localhost:8080/"
        },
        "id": "bwx8GfaGHkOd",
        "outputId": "dd7ad8d4-d8f7-4f70-8b51-dcd6b83c4da4"
      },
      "execution_count": 129,
      "outputs": [
        {
          "output_type": "execute_result",
          "data": {
            "text/plain": [
              "0.74214"
            ]
          },
          "metadata": {},
          "execution_count": 129
        }
      ]
    },
    {
      "cell_type": "code",
      "source": [
        "accuracy_score(model_4.predict(val_inputs),val_targets)"
      ],
      "metadata": {
        "colab": {
          "base_uri": "https://localhost:8080/"
        },
        "id": "r1ioDHFcH8Df",
        "outputId": "ff1062fd-0311-4e13-8b49-75bf637f453c"
      },
      "execution_count": null,
      "outputs": [
        {
          "output_type": "execute_result",
          "data": {
            "text/plain": [
              "0.5641633963610417"
            ]
          },
          "metadata": {},
          "execution_count": 130
        }
      ]
    },
    {
      "cell_type": "code",
      "source": [
        "model_5 = GradientBoostingClassifier(learning_rate=0.556,max_depth=9,n_estimators=200).fit(train_inputs,train_targets)\n",
        "print(accuracy_score(model_5.predict(train_inputs),train_targets))\n",
        "print(accuracy_score(model_5.predict(val_inputs),val_targets))"
      ],
      "metadata": {
        "colab": {
          "base_uri": "https://localhost:8080/"
        },
        "id": "elgYc3CkISzT",
        "outputId": "6aaaf999-fdbc-4e57-8ec7-f038985ea4c0"
      },
      "execution_count": 134,
      "outputs": [
        {
          "output_type": "stream",
          "name": "stdout",
          "text": [
            "0.74742\n",
            "0.5668926150552979\n"
          ]
        }
      ]
    },
    {
      "cell_type": "code",
      "source": [
        "new_test_prediction = model_5.predict(test_inputs)\n",
        "new_test_prediction"
      ],
      "metadata": {
        "colab": {
          "base_uri": "https://localhost:8080/"
        },
        "id": "2Vl4ZdwwObCH",
        "outputId": "6c338123-7c49-45e8-8dc4-6a3fbee187f1"
      },
      "execution_count": 141,
      "outputs": [
        {
          "output_type": "execute_result",
          "data": {
            "text/plain": [
              "array([3, 3, 2, ..., 2, 2, 1])"
            ]
          },
          "metadata": {},
          "execution_count": 141
        }
      ]
    },
    {
      "cell_type": "code",
      "source": [
        "sub_df"
      ],
      "metadata": {
        "colab": {
          "base_uri": "https://localhost:8080/",
          "height": 424
        },
        "id": "jBcWuTDnRZLV",
        "outputId": "c8758816-0eea-406d-9cd6-9de8ca4dbc36"
      },
      "execution_count": 142,
      "outputs": [
        {
          "output_type": "execute_result",
          "data": {
            "text/plain": [
              "       PhraseId  Sentiment\n",
              "0        156061          2\n",
              "1        156062          2\n",
              "2        156063          2\n",
              "3        156064          2\n",
              "4        156065          2\n",
              "...         ...        ...\n",
              "66287    222348          1\n",
              "66288    222349          1\n",
              "66289    222350          2\n",
              "66290    222351          2\n",
              "66291    222352          1\n",
              "\n",
              "[66292 rows x 2 columns]"
            ],
            "text/html": [
              "\n",
              "  <div id=\"df-7d2b9238-3e1c-466f-8160-9adced07c1fe\">\n",
              "    <div class=\"colab-df-container\">\n",
              "      <div>\n",
              "<style scoped>\n",
              "    .dataframe tbody tr th:only-of-type {\n",
              "        vertical-align: middle;\n",
              "    }\n",
              "\n",
              "    .dataframe tbody tr th {\n",
              "        vertical-align: top;\n",
              "    }\n",
              "\n",
              "    .dataframe thead th {\n",
              "        text-align: right;\n",
              "    }\n",
              "</style>\n",
              "<table border=\"1\" class=\"dataframe\">\n",
              "  <thead>\n",
              "    <tr style=\"text-align: right;\">\n",
              "      <th></th>\n",
              "      <th>PhraseId</th>\n",
              "      <th>Sentiment</th>\n",
              "    </tr>\n",
              "  </thead>\n",
              "  <tbody>\n",
              "    <tr>\n",
              "      <th>0</th>\n",
              "      <td>156061</td>\n",
              "      <td>2</td>\n",
              "    </tr>\n",
              "    <tr>\n",
              "      <th>1</th>\n",
              "      <td>156062</td>\n",
              "      <td>2</td>\n",
              "    </tr>\n",
              "    <tr>\n",
              "      <th>2</th>\n",
              "      <td>156063</td>\n",
              "      <td>2</td>\n",
              "    </tr>\n",
              "    <tr>\n",
              "      <th>3</th>\n",
              "      <td>156064</td>\n",
              "      <td>2</td>\n",
              "    </tr>\n",
              "    <tr>\n",
              "      <th>4</th>\n",
              "      <td>156065</td>\n",
              "      <td>2</td>\n",
              "    </tr>\n",
              "    <tr>\n",
              "      <th>...</th>\n",
              "      <td>...</td>\n",
              "      <td>...</td>\n",
              "    </tr>\n",
              "    <tr>\n",
              "      <th>66287</th>\n",
              "      <td>222348</td>\n",
              "      <td>1</td>\n",
              "    </tr>\n",
              "    <tr>\n",
              "      <th>66288</th>\n",
              "      <td>222349</td>\n",
              "      <td>1</td>\n",
              "    </tr>\n",
              "    <tr>\n",
              "      <th>66289</th>\n",
              "      <td>222350</td>\n",
              "      <td>2</td>\n",
              "    </tr>\n",
              "    <tr>\n",
              "      <th>66290</th>\n",
              "      <td>222351</td>\n",
              "      <td>2</td>\n",
              "    </tr>\n",
              "    <tr>\n",
              "      <th>66291</th>\n",
              "      <td>222352</td>\n",
              "      <td>1</td>\n",
              "    </tr>\n",
              "  </tbody>\n",
              "</table>\n",
              "<p>66292 rows × 2 columns</p>\n",
              "</div>\n",
              "      <button class=\"colab-df-convert\" onclick=\"convertToInteractive('df-7d2b9238-3e1c-466f-8160-9adced07c1fe')\"\n",
              "              title=\"Convert this dataframe to an interactive table.\"\n",
              "              style=\"display:none;\">\n",
              "        \n",
              "  <svg xmlns=\"http://www.w3.org/2000/svg\" height=\"24px\"viewBox=\"0 0 24 24\"\n",
              "       width=\"24px\">\n",
              "    <path d=\"M0 0h24v24H0V0z\" fill=\"none\"/>\n",
              "    <path d=\"M18.56 5.44l.94 2.06.94-2.06 2.06-.94-2.06-.94-.94-2.06-.94 2.06-2.06.94zm-11 1L8.5 8.5l.94-2.06 2.06-.94-2.06-.94L8.5 2.5l-.94 2.06-2.06.94zm10 10l.94 2.06.94-2.06 2.06-.94-2.06-.94-.94-2.06-.94 2.06-2.06.94z\"/><path d=\"M17.41 7.96l-1.37-1.37c-.4-.4-.92-.59-1.43-.59-.52 0-1.04.2-1.43.59L10.3 9.45l-7.72 7.72c-.78.78-.78 2.05 0 2.83L4 21.41c.39.39.9.59 1.41.59.51 0 1.02-.2 1.41-.59l7.78-7.78 2.81-2.81c.8-.78.8-2.07 0-2.86zM5.41 20L4 18.59l7.72-7.72 1.47 1.35L5.41 20z\"/>\n",
              "  </svg>\n",
              "      </button>\n",
              "      \n",
              "  <style>\n",
              "    .colab-df-container {\n",
              "      display:flex;\n",
              "      flex-wrap:wrap;\n",
              "      gap: 12px;\n",
              "    }\n",
              "\n",
              "    .colab-df-convert {\n",
              "      background-color: #E8F0FE;\n",
              "      border: none;\n",
              "      border-radius: 50%;\n",
              "      cursor: pointer;\n",
              "      display: none;\n",
              "      fill: #1967D2;\n",
              "      height: 32px;\n",
              "      padding: 0 0 0 0;\n",
              "      width: 32px;\n",
              "    }\n",
              "\n",
              "    .colab-df-convert:hover {\n",
              "      background-color: #E2EBFA;\n",
              "      box-shadow: 0px 1px 2px rgba(60, 64, 67, 0.3), 0px 1px 3px 1px rgba(60, 64, 67, 0.15);\n",
              "      fill: #174EA6;\n",
              "    }\n",
              "\n",
              "    [theme=dark] .colab-df-convert {\n",
              "      background-color: #3B4455;\n",
              "      fill: #D2E3FC;\n",
              "    }\n",
              "\n",
              "    [theme=dark] .colab-df-convert:hover {\n",
              "      background-color: #434B5C;\n",
              "      box-shadow: 0px 1px 3px 1px rgba(0, 0, 0, 0.15);\n",
              "      filter: drop-shadow(0px 1px 2px rgba(0, 0, 0, 0.3));\n",
              "      fill: #FFFFFF;\n",
              "    }\n",
              "  </style>\n",
              "\n",
              "      <script>\n",
              "        const buttonEl =\n",
              "          document.querySelector('#df-7d2b9238-3e1c-466f-8160-9adced07c1fe button.colab-df-convert');\n",
              "        buttonEl.style.display =\n",
              "          google.colab.kernel.accessAllowed ? 'block' : 'none';\n",
              "\n",
              "        async function convertToInteractive(key) {\n",
              "          const element = document.querySelector('#df-7d2b9238-3e1c-466f-8160-9adced07c1fe');\n",
              "          const dataTable =\n",
              "            await google.colab.kernel.invokeFunction('convertToInteractive',\n",
              "                                                     [key], {});\n",
              "          if (!dataTable) return;\n",
              "\n",
              "          const docLinkHtml = 'Like what you see? Visit the ' +\n",
              "            '<a target=\"_blank\" href=https://colab.research.google.com/notebooks/data_table.ipynb>data table notebook</a>'\n",
              "            + ' to learn more about interactive tables.';\n",
              "          element.innerHTML = '';\n",
              "          dataTable['output_type'] = 'display_data';\n",
              "          await google.colab.output.renderOutput(dataTable, element);\n",
              "          const docLink = document.createElement('div');\n",
              "          docLink.innerHTML = docLinkHtml;\n",
              "          element.appendChild(docLink);\n",
              "        }\n",
              "      </script>\n",
              "    </div>\n",
              "  </div>\n",
              "  "
            ]
          },
          "metadata": {},
          "execution_count": 142
        }
      ]
    },
    {
      "cell_type": "code",
      "source": [
        "sub_df.Sentiment = new_test_prediction\n",
        "sub_df"
      ],
      "metadata": {
        "colab": {
          "base_uri": "https://localhost:8080/",
          "height": 424
        },
        "id": "ILYt2pf1RcFQ",
        "outputId": "3e6d28ee-98cb-4fcc-ba19-a1fc86ee1df3"
      },
      "execution_count": 143,
      "outputs": [
        {
          "output_type": "execute_result",
          "data": {
            "text/plain": [
              "       PhraseId  Sentiment\n",
              "0        156061          3\n",
              "1        156062          3\n",
              "2        156063          2\n",
              "3        156064          3\n",
              "4        156065          3\n",
              "...         ...        ...\n",
              "66287    222348          1\n",
              "66288    222349          1\n",
              "66289    222350          2\n",
              "66290    222351          2\n",
              "66291    222352          1\n",
              "\n",
              "[66292 rows x 2 columns]"
            ],
            "text/html": [
              "\n",
              "  <div id=\"df-a0d6d09e-64ab-4b3c-ae1a-da8c171cc35d\">\n",
              "    <div class=\"colab-df-container\">\n",
              "      <div>\n",
              "<style scoped>\n",
              "    .dataframe tbody tr th:only-of-type {\n",
              "        vertical-align: middle;\n",
              "    }\n",
              "\n",
              "    .dataframe tbody tr th {\n",
              "        vertical-align: top;\n",
              "    }\n",
              "\n",
              "    .dataframe thead th {\n",
              "        text-align: right;\n",
              "    }\n",
              "</style>\n",
              "<table border=\"1\" class=\"dataframe\">\n",
              "  <thead>\n",
              "    <tr style=\"text-align: right;\">\n",
              "      <th></th>\n",
              "      <th>PhraseId</th>\n",
              "      <th>Sentiment</th>\n",
              "    </tr>\n",
              "  </thead>\n",
              "  <tbody>\n",
              "    <tr>\n",
              "      <th>0</th>\n",
              "      <td>156061</td>\n",
              "      <td>3</td>\n",
              "    </tr>\n",
              "    <tr>\n",
              "      <th>1</th>\n",
              "      <td>156062</td>\n",
              "      <td>3</td>\n",
              "    </tr>\n",
              "    <tr>\n",
              "      <th>2</th>\n",
              "      <td>156063</td>\n",
              "      <td>2</td>\n",
              "    </tr>\n",
              "    <tr>\n",
              "      <th>3</th>\n",
              "      <td>156064</td>\n",
              "      <td>3</td>\n",
              "    </tr>\n",
              "    <tr>\n",
              "      <th>4</th>\n",
              "      <td>156065</td>\n",
              "      <td>3</td>\n",
              "    </tr>\n",
              "    <tr>\n",
              "      <th>...</th>\n",
              "      <td>...</td>\n",
              "      <td>...</td>\n",
              "    </tr>\n",
              "    <tr>\n",
              "      <th>66287</th>\n",
              "      <td>222348</td>\n",
              "      <td>1</td>\n",
              "    </tr>\n",
              "    <tr>\n",
              "      <th>66288</th>\n",
              "      <td>222349</td>\n",
              "      <td>1</td>\n",
              "    </tr>\n",
              "    <tr>\n",
              "      <th>66289</th>\n",
              "      <td>222350</td>\n",
              "      <td>2</td>\n",
              "    </tr>\n",
              "    <tr>\n",
              "      <th>66290</th>\n",
              "      <td>222351</td>\n",
              "      <td>2</td>\n",
              "    </tr>\n",
              "    <tr>\n",
              "      <th>66291</th>\n",
              "      <td>222352</td>\n",
              "      <td>1</td>\n",
              "    </tr>\n",
              "  </tbody>\n",
              "</table>\n",
              "<p>66292 rows × 2 columns</p>\n",
              "</div>\n",
              "      <button class=\"colab-df-convert\" onclick=\"convertToInteractive('df-a0d6d09e-64ab-4b3c-ae1a-da8c171cc35d')\"\n",
              "              title=\"Convert this dataframe to an interactive table.\"\n",
              "              style=\"display:none;\">\n",
              "        \n",
              "  <svg xmlns=\"http://www.w3.org/2000/svg\" height=\"24px\"viewBox=\"0 0 24 24\"\n",
              "       width=\"24px\">\n",
              "    <path d=\"M0 0h24v24H0V0z\" fill=\"none\"/>\n",
              "    <path d=\"M18.56 5.44l.94 2.06.94-2.06 2.06-.94-2.06-.94-.94-2.06-.94 2.06-2.06.94zm-11 1L8.5 8.5l.94-2.06 2.06-.94-2.06-.94L8.5 2.5l-.94 2.06-2.06.94zm10 10l.94 2.06.94-2.06 2.06-.94-2.06-.94-.94-2.06-.94 2.06-2.06.94z\"/><path d=\"M17.41 7.96l-1.37-1.37c-.4-.4-.92-.59-1.43-.59-.52 0-1.04.2-1.43.59L10.3 9.45l-7.72 7.72c-.78.78-.78 2.05 0 2.83L4 21.41c.39.39.9.59 1.41.59.51 0 1.02-.2 1.41-.59l7.78-7.78 2.81-2.81c.8-.78.8-2.07 0-2.86zM5.41 20L4 18.59l7.72-7.72 1.47 1.35L5.41 20z\"/>\n",
              "  </svg>\n",
              "      </button>\n",
              "      \n",
              "  <style>\n",
              "    .colab-df-container {\n",
              "      display:flex;\n",
              "      flex-wrap:wrap;\n",
              "      gap: 12px;\n",
              "    }\n",
              "\n",
              "    .colab-df-convert {\n",
              "      background-color: #E8F0FE;\n",
              "      border: none;\n",
              "      border-radius: 50%;\n",
              "      cursor: pointer;\n",
              "      display: none;\n",
              "      fill: #1967D2;\n",
              "      height: 32px;\n",
              "      padding: 0 0 0 0;\n",
              "      width: 32px;\n",
              "    }\n",
              "\n",
              "    .colab-df-convert:hover {\n",
              "      background-color: #E2EBFA;\n",
              "      box-shadow: 0px 1px 2px rgba(60, 64, 67, 0.3), 0px 1px 3px 1px rgba(60, 64, 67, 0.15);\n",
              "      fill: #174EA6;\n",
              "    }\n",
              "\n",
              "    [theme=dark] .colab-df-convert {\n",
              "      background-color: #3B4455;\n",
              "      fill: #D2E3FC;\n",
              "    }\n",
              "\n",
              "    [theme=dark] .colab-df-convert:hover {\n",
              "      background-color: #434B5C;\n",
              "      box-shadow: 0px 1px 3px 1px rgba(0, 0, 0, 0.15);\n",
              "      filter: drop-shadow(0px 1px 2px rgba(0, 0, 0, 0.3));\n",
              "      fill: #FFFFFF;\n",
              "    }\n",
              "  </style>\n",
              "\n",
              "      <script>\n",
              "        const buttonEl =\n",
              "          document.querySelector('#df-a0d6d09e-64ab-4b3c-ae1a-da8c171cc35d button.colab-df-convert');\n",
              "        buttonEl.style.display =\n",
              "          google.colab.kernel.accessAllowed ? 'block' : 'none';\n",
              "\n",
              "        async function convertToInteractive(key) {\n",
              "          const element = document.querySelector('#df-a0d6d09e-64ab-4b3c-ae1a-da8c171cc35d');\n",
              "          const dataTable =\n",
              "            await google.colab.kernel.invokeFunction('convertToInteractive',\n",
              "                                                     [key], {});\n",
              "          if (!dataTable) return;\n",
              "\n",
              "          const docLinkHtml = 'Like what you see? Visit the ' +\n",
              "            '<a target=\"_blank\" href=https://colab.research.google.com/notebooks/data_table.ipynb>data table notebook</a>'\n",
              "            + ' to learn more about interactive tables.';\n",
              "          element.innerHTML = '';\n",
              "          dataTable['output_type'] = 'display_data';\n",
              "          await google.colab.output.renderOutput(dataTable, element);\n",
              "          const docLink = document.createElement('div');\n",
              "          docLink.innerHTML = docLinkHtml;\n",
              "          element.appendChild(docLink);\n",
              "        }\n",
              "      </script>\n",
              "    </div>\n",
              "  </div>\n",
              "  "
            ]
          },
          "metadata": {},
          "execution_count": 143
        }
      ]
    },
    {
      "cell_type": "code",
      "source": [
        "sub_df.to_csv('third_submission.csv',index = None)\n",
        "!head third_submission.csv"
      ],
      "metadata": {
        "colab": {
          "base_uri": "https://localhost:8080/"
        },
        "id": "PCaAEOI_RlHO",
        "outputId": "c6e2fb67-f4e6-48ea-eacc-5edcfbac83df"
      },
      "execution_count": 144,
      "outputs": [
        {
          "output_type": "stream",
          "name": "stdout",
          "text": [
            "PhraseId,Sentiment\n",
            "156061,3\n",
            "156062,3\n",
            "156063,2\n",
            "156064,3\n",
            "156065,3\n",
            "156066,3\n",
            "156067,3\n",
            "156068,2\n",
            "156069,4\n"
          ]
        }
      ]
    },
    {
      "cell_type": "markdown",
      "source": [
        "![image.png](data:image/png;base64,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)"
      ],
      "metadata": {
        "id": "por_z0B4TKyT"
      }
    }
  ]
}